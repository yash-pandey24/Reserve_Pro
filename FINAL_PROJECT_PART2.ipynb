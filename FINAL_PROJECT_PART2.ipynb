{
 "cells": [
  {
   "attachments": {},
   "cell_type": "markdown",
   "id": "4a1fac34",
   "metadata": {},
   "source": [
    "### Final Project Part 2\n",
    "### Group 3\n",
    "### Semester- Spring 2024\n"
   ]
  },
  {
   "attachments": {},
   "cell_type": "markdown",
   "id": "e9f72015",
   "metadata": {},
   "source": [
    "### Data Loading and Augmentation "
   ]
  },
  {
   "cell_type": "code",
   "execution_count": 1,
   "id": "da0367ef",
   "metadata": {},
   "outputs": [
    {
     "name": "stdout",
     "output_type": "stream",
     "text": [
      "Intel MKL WARNING: Support of Intel(R) Streaming SIMD Extensions 4.2 (Intel(R) SSE4.2) enabled only processors has been deprecated. Intel oneAPI Math Kernel Library 2025.0 will require Intel(R) Advanced Vector Extensions (Intel(R) AVX) instructions.\n",
      "Intel MKL WARNING: Support of Intel(R) Streaming SIMD Extensions 4.2 (Intel(R) SSE4.2) enabled only processors has been deprecated. Intel oneAPI Math Kernel Library 2025.0 will require Intel(R) Advanced Vector Extensions (Intel(R) AVX) instructions.\n"
     ]
    }
   ],
   "source": [
    "import pandas as pd\n",
    "import numpy as np"
   ]
  },
  {
   "attachments": {},
   "cell_type": "markdown",
   "id": "422b37af",
   "metadata": {},
   "source": [
    "### Loading the excel File of our dataset-- Mohit\n"
   ]
  },
  {
   "cell_type": "code",
   "execution_count": 3,
   "id": "b7277392",
   "metadata": {},
   "outputs": [],
   "source": [
    "df=pd.read_csv(\"Hotel_Reservations.csv\")"
   ]
  },
  {
   "cell_type": "code",
   "execution_count": 3,
   "id": "bf0448ec",
   "metadata": {},
   "outputs": [
    {
     "data": {
      "text/html": [
       "<div>\n",
       "<style scoped>\n",
       "    .dataframe tbody tr th:only-of-type {\n",
       "        vertical-align: middle;\n",
       "    }\n",
       "\n",
       "    .dataframe tbody tr th {\n",
       "        vertical-align: top;\n",
       "    }\n",
       "\n",
       "    .dataframe thead th {\n",
       "        text-align: right;\n",
       "    }\n",
       "</style>\n",
       "<table border=\"1\" class=\"dataframe\">\n",
       "  <thead>\n",
       "    <tr style=\"text-align: right;\">\n",
       "      <th></th>\n",
       "      <th>Booking_ID</th>\n",
       "      <th>no_of_adults</th>\n",
       "      <th>no_of_children</th>\n",
       "      <th>no_of_weekend_nights</th>\n",
       "      <th>no_of_week_nights</th>\n",
       "      <th>type_of_meal_plan</th>\n",
       "      <th>required_car_parking_space</th>\n",
       "      <th>room_type_reserved</th>\n",
       "      <th>lead_time</th>\n",
       "      <th>arrival_year</th>\n",
       "      <th>...</th>\n",
       "      <th>arrival_date</th>\n",
       "      <th>market_segment_type</th>\n",
       "      <th>repeated_guest</th>\n",
       "      <th>no_of_previous_cancellations</th>\n",
       "      <th>no_of_previous_bookings_not_canceled</th>\n",
       "      <th>avg_price_per_room</th>\n",
       "      <th>no_of_special_requests</th>\n",
       "      <th>booking_status</th>\n",
       "      <th>name</th>\n",
       "      <th>Customerid</th>\n",
       "    </tr>\n",
       "  </thead>\n",
       "  <tbody>\n",
       "    <tr>\n",
       "      <th>0</th>\n",
       "      <td>INN00001</td>\n",
       "      <td>2</td>\n",
       "      <td>0</td>\n",
       "      <td>1</td>\n",
       "      <td>2</td>\n",
       "      <td>Meal Plan 1</td>\n",
       "      <td>0</td>\n",
       "      <td>Room_Type 1</td>\n",
       "      <td>224</td>\n",
       "      <td>2017</td>\n",
       "      <td>...</td>\n",
       "      <td>2</td>\n",
       "      <td>Offline</td>\n",
       "      <td>0</td>\n",
       "      <td>0</td>\n",
       "      <td>0</td>\n",
       "      <td>65.00</td>\n",
       "      <td>0</td>\n",
       "      <td>Not_Canceled</td>\n",
       "      <td>Tyler Smith</td>\n",
       "      <td>1</td>\n",
       "    </tr>\n",
       "    <tr>\n",
       "      <th>1</th>\n",
       "      <td>INN00002</td>\n",
       "      <td>2</td>\n",
       "      <td>0</td>\n",
       "      <td>2</td>\n",
       "      <td>3</td>\n",
       "      <td>Not Selected</td>\n",
       "      <td>0</td>\n",
       "      <td>Room_Type 1</td>\n",
       "      <td>5</td>\n",
       "      <td>2018</td>\n",
       "      <td>...</td>\n",
       "      <td>6</td>\n",
       "      <td>Online</td>\n",
       "      <td>0</td>\n",
       "      <td>0</td>\n",
       "      <td>0</td>\n",
       "      <td>106.68</td>\n",
       "      <td>1</td>\n",
       "      <td>Not_Canceled</td>\n",
       "      <td>Scott Young</td>\n",
       "      <td>2</td>\n",
       "    </tr>\n",
       "    <tr>\n",
       "      <th>2</th>\n",
       "      <td>INN00003</td>\n",
       "      <td>1</td>\n",
       "      <td>0</td>\n",
       "      <td>2</td>\n",
       "      <td>1</td>\n",
       "      <td>Meal Plan 1</td>\n",
       "      <td>0</td>\n",
       "      <td>Room_Type 1</td>\n",
       "      <td>1</td>\n",
       "      <td>2018</td>\n",
       "      <td>...</td>\n",
       "      <td>28</td>\n",
       "      <td>Online</td>\n",
       "      <td>0</td>\n",
       "      <td>0</td>\n",
       "      <td>0</td>\n",
       "      <td>60.00</td>\n",
       "      <td>0</td>\n",
       "      <td>Canceled</td>\n",
       "      <td>Heather Meyer</td>\n",
       "      <td>3</td>\n",
       "    </tr>\n",
       "    <tr>\n",
       "      <th>3</th>\n",
       "      <td>INN00004</td>\n",
       "      <td>2</td>\n",
       "      <td>0</td>\n",
       "      <td>0</td>\n",
       "      <td>2</td>\n",
       "      <td>Meal Plan 1</td>\n",
       "      <td>0</td>\n",
       "      <td>Room_Type 1</td>\n",
       "      <td>211</td>\n",
       "      <td>2018</td>\n",
       "      <td>...</td>\n",
       "      <td>20</td>\n",
       "      <td>Online</td>\n",
       "      <td>0</td>\n",
       "      <td>0</td>\n",
       "      <td>0</td>\n",
       "      <td>100.00</td>\n",
       "      <td>0</td>\n",
       "      <td>Canceled</td>\n",
       "      <td>Erik Moreno</td>\n",
       "      <td>4</td>\n",
       "    </tr>\n",
       "    <tr>\n",
       "      <th>4</th>\n",
       "      <td>INN00005</td>\n",
       "      <td>2</td>\n",
       "      <td>0</td>\n",
       "      <td>1</td>\n",
       "      <td>1</td>\n",
       "      <td>Not Selected</td>\n",
       "      <td>0</td>\n",
       "      <td>Room_Type 1</td>\n",
       "      <td>48</td>\n",
       "      <td>2018</td>\n",
       "      <td>...</td>\n",
       "      <td>11</td>\n",
       "      <td>Online</td>\n",
       "      <td>0</td>\n",
       "      <td>0</td>\n",
       "      <td>0</td>\n",
       "      <td>94.50</td>\n",
       "      <td>0</td>\n",
       "      <td>Canceled</td>\n",
       "      <td>Robert Rollins</td>\n",
       "      <td>5</td>\n",
       "    </tr>\n",
       "  </tbody>\n",
       "</table>\n",
       "<p>5 rows × 21 columns</p>\n",
       "</div>"
      ],
      "text/plain": [
       "  Booking_ID  no_of_adults  no_of_children  no_of_weekend_nights  \\\n",
       "0   INN00001             2               0                     1   \n",
       "1   INN00002             2               0                     2   \n",
       "2   INN00003             1               0                     2   \n",
       "3   INN00004             2               0                     0   \n",
       "4   INN00005             2               0                     1   \n",
       "\n",
       "   no_of_week_nights type_of_meal_plan  required_car_parking_space  \\\n",
       "0                  2       Meal Plan 1                           0   \n",
       "1                  3      Not Selected                           0   \n",
       "2                  1       Meal Plan 1                           0   \n",
       "3                  2       Meal Plan 1                           0   \n",
       "4                  1      Not Selected                           0   \n",
       "\n",
       "  room_type_reserved  lead_time  arrival_year  ...  arrival_date  \\\n",
       "0        Room_Type 1        224          2017  ...             2   \n",
       "1        Room_Type 1          5          2018  ...             6   \n",
       "2        Room_Type 1          1          2018  ...            28   \n",
       "3        Room_Type 1        211          2018  ...            20   \n",
       "4        Room_Type 1         48          2018  ...            11   \n",
       "\n",
       "   market_segment_type repeated_guest  no_of_previous_cancellations  \\\n",
       "0              Offline              0                             0   \n",
       "1               Online              0                             0   \n",
       "2               Online              0                             0   \n",
       "3               Online              0                             0   \n",
       "4               Online              0                             0   \n",
       "\n",
       "   no_of_previous_bookings_not_canceled  avg_price_per_room  \\\n",
       "0                                     0               65.00   \n",
       "1                                     0              106.68   \n",
       "2                                     0               60.00   \n",
       "3                                     0              100.00   \n",
       "4                                     0               94.50   \n",
       "\n",
       "   no_of_special_requests  booking_status            name Customerid  \n",
       "0                       0    Not_Canceled     Tyler Smith          1  \n",
       "1                       1    Not_Canceled     Scott Young          2  \n",
       "2                       0        Canceled   Heather Meyer          3  \n",
       "3                       0        Canceled     Erik Moreno          4  \n",
       "4                       0        Canceled  Robert Rollins          5  \n",
       "\n",
       "[5 rows x 21 columns]"
      ]
     },
     "execution_count": 3,
     "metadata": {},
     "output_type": "execute_result"
    }
   ],
   "source": [
    "df.head()"
   ]
  },
  {
   "attachments": {},
   "cell_type": "markdown",
   "id": "2c0748e4",
   "metadata": {},
   "source": [
    "-- In our original dataset, we didnt have room numbers, employee names and ID. So we planned on generating some room numbers , employee names and ID. So that will give a good outlook while creating our final web application."
   ]
  },
  {
   "attachments": {},
   "cell_type": "markdown",
   "id": "9a2a9865",
   "metadata": {},
   "source": [
    "#### Generating room numbers- Mohit"
   ]
  },
  {
   "cell_type": "code",
   "execution_count": 6,
   "id": "243bc427",
   "metadata": {},
   "outputs": [
    {
     "data": {
      "text/plain": [
       "array(['Room_Type 1', 'Room_Type 4', 'Room_Type 2', 'Room_Type 6',\n",
       "       'Room_Type 5', 'Room_Type 7', 'Room_Type 3'], dtype=object)"
      ]
     },
     "execution_count": 6,
     "metadata": {},
     "output_type": "execute_result"
    }
   ],
   "source": [
    "df[\"room_type_reserved\"].unique()"
   ]
  },
  {
   "cell_type": "code",
   "execution_count": 7,
   "id": "8d7ac7f4",
   "metadata": {},
   "outputs": [],
   "source": [
    "def generate_room_number(row):\n",
    "    if row['room_type_reserved'] == \"Room_Type 1\":\n",
    "        return np.random.randint(100, 199)\n",
    "    elif row['room_type_reserved'] == \"Room_Type 2\":\n",
    "        return np.random.randint(200, 299)\n",
    "    elif row['room_type_reserved'] == \"Room_Type 3\":\n",
    "        return np.random.randint(300, 399)\n",
    "    elif row['room_type_reserved'] == \"Room_Type 4\":\n",
    "        return np.random.randint(400, 499)\n",
    "    elif row['room_type_reserved'] == \"Room_Type 5\":\n",
    "        return np.random.randint(500, 599)\n",
    "    elif row['room_type_reserved'] == \"Room_Type 6\":\n",
    "        return np.random.randint(600, 699)\n",
    "    elif row['room_type_reserved'] == \"Room_Type 7\":\n",
    "        return np.random.randint(700, 799)\n",
    "    \n",
    "        \n",
    "\n",
    "\n",
    "\n",
    "df['room number'] = df.apply(generate_room_number, axis=1)\n"
   ]
  },
  {
   "cell_type": "code",
   "execution_count": 8,
   "id": "cbc816a7",
   "metadata": {},
   "outputs": [
    {
     "data": {
      "text/html": [
       "<div>\n",
       "<style scoped>\n",
       "    .dataframe tbody tr th:only-of-type {\n",
       "        vertical-align: middle;\n",
       "    }\n",
       "\n",
       "    .dataframe tbody tr th {\n",
       "        vertical-align: top;\n",
       "    }\n",
       "\n",
       "    .dataframe thead th {\n",
       "        text-align: right;\n",
       "    }\n",
       "</style>\n",
       "<table border=\"1\" class=\"dataframe\">\n",
       "  <thead>\n",
       "    <tr style=\"text-align: right;\">\n",
       "      <th></th>\n",
       "      <th>Booking_ID</th>\n",
       "      <th>no_of_adults</th>\n",
       "      <th>no_of_children</th>\n",
       "      <th>no_of_weekend_nights</th>\n",
       "      <th>no_of_week_nights</th>\n",
       "      <th>type_of_meal_plan</th>\n",
       "      <th>required_car_parking_space</th>\n",
       "      <th>room_type_reserved</th>\n",
       "      <th>lead_time</th>\n",
       "      <th>arrival_year</th>\n",
       "      <th>...</th>\n",
       "      <th>market_segment_type</th>\n",
       "      <th>repeated_guest</th>\n",
       "      <th>no_of_previous_cancellations</th>\n",
       "      <th>no_of_previous_bookings_not_canceled</th>\n",
       "      <th>avg_price_per_room</th>\n",
       "      <th>no_of_special_requests</th>\n",
       "      <th>booking_status</th>\n",
       "      <th>name</th>\n",
       "      <th>Customerid</th>\n",
       "      <th>room number</th>\n",
       "    </tr>\n",
       "  </thead>\n",
       "  <tbody>\n",
       "    <tr>\n",
       "      <th>0</th>\n",
       "      <td>INN00001</td>\n",
       "      <td>2</td>\n",
       "      <td>0</td>\n",
       "      <td>1</td>\n",
       "      <td>2</td>\n",
       "      <td>Meal Plan 1</td>\n",
       "      <td>0</td>\n",
       "      <td>Room_Type 1</td>\n",
       "      <td>224</td>\n",
       "      <td>2017</td>\n",
       "      <td>...</td>\n",
       "      <td>Offline</td>\n",
       "      <td>0</td>\n",
       "      <td>0</td>\n",
       "      <td>0</td>\n",
       "      <td>65.00</td>\n",
       "      <td>0</td>\n",
       "      <td>Not_Canceled</td>\n",
       "      <td>Tyler Smith</td>\n",
       "      <td>1</td>\n",
       "      <td>135</td>\n",
       "    </tr>\n",
       "    <tr>\n",
       "      <th>1</th>\n",
       "      <td>INN00002</td>\n",
       "      <td>2</td>\n",
       "      <td>0</td>\n",
       "      <td>2</td>\n",
       "      <td>3</td>\n",
       "      <td>Not Selected</td>\n",
       "      <td>0</td>\n",
       "      <td>Room_Type 1</td>\n",
       "      <td>5</td>\n",
       "      <td>2018</td>\n",
       "      <td>...</td>\n",
       "      <td>Online</td>\n",
       "      <td>0</td>\n",
       "      <td>0</td>\n",
       "      <td>0</td>\n",
       "      <td>106.68</td>\n",
       "      <td>1</td>\n",
       "      <td>Not_Canceled</td>\n",
       "      <td>Scott Young</td>\n",
       "      <td>2</td>\n",
       "      <td>137</td>\n",
       "    </tr>\n",
       "    <tr>\n",
       "      <th>2</th>\n",
       "      <td>INN00003</td>\n",
       "      <td>1</td>\n",
       "      <td>0</td>\n",
       "      <td>2</td>\n",
       "      <td>1</td>\n",
       "      <td>Meal Plan 1</td>\n",
       "      <td>0</td>\n",
       "      <td>Room_Type 1</td>\n",
       "      <td>1</td>\n",
       "      <td>2018</td>\n",
       "      <td>...</td>\n",
       "      <td>Online</td>\n",
       "      <td>0</td>\n",
       "      <td>0</td>\n",
       "      <td>0</td>\n",
       "      <td>60.00</td>\n",
       "      <td>0</td>\n",
       "      <td>Canceled</td>\n",
       "      <td>Heather Meyer</td>\n",
       "      <td>3</td>\n",
       "      <td>174</td>\n",
       "    </tr>\n",
       "    <tr>\n",
       "      <th>3</th>\n",
       "      <td>INN00004</td>\n",
       "      <td>2</td>\n",
       "      <td>0</td>\n",
       "      <td>0</td>\n",
       "      <td>2</td>\n",
       "      <td>Meal Plan 1</td>\n",
       "      <td>0</td>\n",
       "      <td>Room_Type 1</td>\n",
       "      <td>211</td>\n",
       "      <td>2018</td>\n",
       "      <td>...</td>\n",
       "      <td>Online</td>\n",
       "      <td>0</td>\n",
       "      <td>0</td>\n",
       "      <td>0</td>\n",
       "      <td>100.00</td>\n",
       "      <td>0</td>\n",
       "      <td>Canceled</td>\n",
       "      <td>Erik Moreno</td>\n",
       "      <td>4</td>\n",
       "      <td>160</td>\n",
       "    </tr>\n",
       "    <tr>\n",
       "      <th>4</th>\n",
       "      <td>INN00005</td>\n",
       "      <td>2</td>\n",
       "      <td>0</td>\n",
       "      <td>1</td>\n",
       "      <td>1</td>\n",
       "      <td>Not Selected</td>\n",
       "      <td>0</td>\n",
       "      <td>Room_Type 1</td>\n",
       "      <td>48</td>\n",
       "      <td>2018</td>\n",
       "      <td>...</td>\n",
       "      <td>Online</td>\n",
       "      <td>0</td>\n",
       "      <td>0</td>\n",
       "      <td>0</td>\n",
       "      <td>94.50</td>\n",
       "      <td>0</td>\n",
       "      <td>Canceled</td>\n",
       "      <td>Robert Rollins</td>\n",
       "      <td>5</td>\n",
       "      <td>150</td>\n",
       "    </tr>\n",
       "  </tbody>\n",
       "</table>\n",
       "<p>5 rows × 22 columns</p>\n",
       "</div>"
      ],
      "text/plain": [
       "  Booking_ID  no_of_adults  no_of_children  no_of_weekend_nights  \\\n",
       "0   INN00001             2               0                     1   \n",
       "1   INN00002             2               0                     2   \n",
       "2   INN00003             1               0                     2   \n",
       "3   INN00004             2               0                     0   \n",
       "4   INN00005             2               0                     1   \n",
       "\n",
       "   no_of_week_nights type_of_meal_plan  required_car_parking_space  \\\n",
       "0                  2       Meal Plan 1                           0   \n",
       "1                  3      Not Selected                           0   \n",
       "2                  1       Meal Plan 1                           0   \n",
       "3                  2       Meal Plan 1                           0   \n",
       "4                  1      Not Selected                           0   \n",
       "\n",
       "  room_type_reserved  lead_time  arrival_year  ...  market_segment_type  \\\n",
       "0        Room_Type 1        224          2017  ...              Offline   \n",
       "1        Room_Type 1          5          2018  ...               Online   \n",
       "2        Room_Type 1          1          2018  ...               Online   \n",
       "3        Room_Type 1        211          2018  ...               Online   \n",
       "4        Room_Type 1         48          2018  ...               Online   \n",
       "\n",
       "   repeated_guest no_of_previous_cancellations  \\\n",
       "0               0                            0   \n",
       "1               0                            0   \n",
       "2               0                            0   \n",
       "3               0                            0   \n",
       "4               0                            0   \n",
       "\n",
       "   no_of_previous_bookings_not_canceled  avg_price_per_room  \\\n",
       "0                                     0               65.00   \n",
       "1                                     0              106.68   \n",
       "2                                     0               60.00   \n",
       "3                                     0              100.00   \n",
       "4                                     0               94.50   \n",
       "\n",
       "   no_of_special_requests  booking_status            name Customerid  \\\n",
       "0                       0    Not_Canceled     Tyler Smith          1   \n",
       "1                       1    Not_Canceled     Scott Young          2   \n",
       "2                       0        Canceled   Heather Meyer          3   \n",
       "3                       0        Canceled     Erik Moreno          4   \n",
       "4                       0        Canceled  Robert Rollins          5   \n",
       "\n",
       "  room number  \n",
       "0         135  \n",
       "1         137  \n",
       "2         174  \n",
       "3         160  \n",
       "4         150  \n",
       "\n",
       "[5 rows x 22 columns]"
      ]
     },
     "execution_count": 8,
     "metadata": {},
     "output_type": "execute_result"
    }
   ],
   "source": [
    "df.head()"
   ]
  },
  {
   "attachments": {},
   "cell_type": "markdown",
   "id": "7754b7a7",
   "metadata": {},
   "source": [
    "#### Generating Employee id and names -- Sanjana"
   ]
  },
  {
   "cell_type": "code",
   "execution_count": 9,
   "id": "5b3dabc7",
   "metadata": {},
   "outputs": [],
   "source": [
    "n_rows = len(df)\n",
    "emp_info = [\n",
    "    {'id': 'E1001', 'name': 'Sam', 'role': 'Assistant', 'start': 0, 'end': 5000},\n",
    "    {'id': 'E1002', 'name': 'Sara', 'role': 'Assistant', 'start': 5000, 'end': 10000},\n",
    "    {'id': 'E1003', 'name': 'Joshua', 'role': 'Supervisor', 'start': 10000, 'end': 20000},\n",
    "    {'id': 'E1004', 'name': 'Sarah', 'role': 'Supervisor', 'start': 20000, 'end': 25000},\n",
    "    {'id': 'E1005', 'name': 'Kent', 'role': 'Manager', 'start': 25000, 'end': 30000},\n",
    "    {'id': 'E1006', 'name': 'Lara', 'role': 'Assistant', 'start': 30000, 'end': n_rows}\n",
    "]\n",
    "emp_df = pd.DataFrame()\n",
    "for emp in emp_info:\n",
    "    emp_rows = np.arange(emp['start'], emp['end'])\n",
    "    emp_data = {'employee id': [emp['id']] * len(emp_rows),\n",
    "                'employee name': [emp['name']] * len(emp_rows),\n",
    "                'role': [emp['role']] * len(emp_rows)}\n",
    "    emp_df = pd.concat([emp_df, pd.DataFrame(emp_data, index=emp_rows)])\n",
    "\n",
    "\n",
    "df = pd.concat([df, emp_df], axis=1)\n",
    "\n"
   ]
  },
  {
   "cell_type": "code",
   "execution_count": 10,
   "id": "5d7747d0",
   "metadata": {},
   "outputs": [
    {
     "data": {
      "text/html": [
       "<div>\n",
       "<style scoped>\n",
       "    .dataframe tbody tr th:only-of-type {\n",
       "        vertical-align: middle;\n",
       "    }\n",
       "\n",
       "    .dataframe tbody tr th {\n",
       "        vertical-align: top;\n",
       "    }\n",
       "\n",
       "    .dataframe thead th {\n",
       "        text-align: right;\n",
       "    }\n",
       "</style>\n",
       "<table border=\"1\" class=\"dataframe\">\n",
       "  <thead>\n",
       "    <tr style=\"text-align: right;\">\n",
       "      <th></th>\n",
       "      <th>no_of_adults</th>\n",
       "      <th>no_of_children</th>\n",
       "      <th>no_of_weekend_nights</th>\n",
       "      <th>no_of_week_nights</th>\n",
       "      <th>required_car_parking_space</th>\n",
       "      <th>lead_time</th>\n",
       "      <th>arrival_year</th>\n",
       "      <th>arrival_month</th>\n",
       "      <th>arrival_date</th>\n",
       "      <th>repeated_guest</th>\n",
       "      <th>no_of_previous_cancellations</th>\n",
       "      <th>no_of_previous_bookings_not_canceled</th>\n",
       "      <th>avg_price_per_room</th>\n",
       "      <th>no_of_special_requests</th>\n",
       "      <th>Customerid</th>\n",
       "      <th>room number</th>\n",
       "    </tr>\n",
       "  </thead>\n",
       "  <tbody>\n",
       "    <tr>\n",
       "      <th>count</th>\n",
       "      <td>36275.000000</td>\n",
       "      <td>36275.000000</td>\n",
       "      <td>36275.000000</td>\n",
       "      <td>36275.000000</td>\n",
       "      <td>36275.000000</td>\n",
       "      <td>36275.000000</td>\n",
       "      <td>36275.000000</td>\n",
       "      <td>36275.000000</td>\n",
       "      <td>36275.000000</td>\n",
       "      <td>36275.000000</td>\n",
       "      <td>36275.000000</td>\n",
       "      <td>36275.000000</td>\n",
       "      <td>36275.000000</td>\n",
       "      <td>36275.000000</td>\n",
       "      <td>36275.000000</td>\n",
       "      <td>36275.000000</td>\n",
       "    </tr>\n",
       "    <tr>\n",
       "      <th>mean</th>\n",
       "      <td>1.844962</td>\n",
       "      <td>0.105279</td>\n",
       "      <td>0.810724</td>\n",
       "      <td>2.204300</td>\n",
       "      <td>0.030986</td>\n",
       "      <td>85.232557</td>\n",
       "      <td>2017.820427</td>\n",
       "      <td>7.423653</td>\n",
       "      <td>15.596995</td>\n",
       "      <td>0.025637</td>\n",
       "      <td>0.023349</td>\n",
       "      <td>0.153411</td>\n",
       "      <td>103.423539</td>\n",
       "      <td>0.619655</td>\n",
       "      <td>18138.000000</td>\n",
       "      <td>220.019655</td>\n",
       "    </tr>\n",
       "    <tr>\n",
       "      <th>std</th>\n",
       "      <td>0.518715</td>\n",
       "      <td>0.402648</td>\n",
       "      <td>0.870644</td>\n",
       "      <td>1.410905</td>\n",
       "      <td>0.173281</td>\n",
       "      <td>85.930817</td>\n",
       "      <td>0.383836</td>\n",
       "      <td>3.069894</td>\n",
       "      <td>8.740447</td>\n",
       "      <td>0.158053</td>\n",
       "      <td>0.368331</td>\n",
       "      <td>1.754171</td>\n",
       "      <td>35.089424</td>\n",
       "      <td>0.786236</td>\n",
       "      <td>10471.834844</td>\n",
       "      <td>142.805838</td>\n",
       "    </tr>\n",
       "    <tr>\n",
       "      <th>min</th>\n",
       "      <td>0.000000</td>\n",
       "      <td>0.000000</td>\n",
       "      <td>0.000000</td>\n",
       "      <td>0.000000</td>\n",
       "      <td>0.000000</td>\n",
       "      <td>0.000000</td>\n",
       "      <td>2017.000000</td>\n",
       "      <td>1.000000</td>\n",
       "      <td>1.000000</td>\n",
       "      <td>0.000000</td>\n",
       "      <td>0.000000</td>\n",
       "      <td>0.000000</td>\n",
       "      <td>0.000000</td>\n",
       "      <td>0.000000</td>\n",
       "      <td>1.000000</td>\n",
       "      <td>100.000000</td>\n",
       "    </tr>\n",
       "    <tr>\n",
       "      <th>25%</th>\n",
       "      <td>2.000000</td>\n",
       "      <td>0.000000</td>\n",
       "      <td>0.000000</td>\n",
       "      <td>1.000000</td>\n",
       "      <td>0.000000</td>\n",
       "      <td>17.000000</td>\n",
       "      <td>2018.000000</td>\n",
       "      <td>5.000000</td>\n",
       "      <td>8.000000</td>\n",
       "      <td>0.000000</td>\n",
       "      <td>0.000000</td>\n",
       "      <td>0.000000</td>\n",
       "      <td>80.300000</td>\n",
       "      <td>0.000000</td>\n",
       "      <td>9069.500000</td>\n",
       "      <td>132.000000</td>\n",
       "    </tr>\n",
       "    <tr>\n",
       "      <th>50%</th>\n",
       "      <td>2.000000</td>\n",
       "      <td>0.000000</td>\n",
       "      <td>1.000000</td>\n",
       "      <td>2.000000</td>\n",
       "      <td>0.000000</td>\n",
       "      <td>57.000000</td>\n",
       "      <td>2018.000000</td>\n",
       "      <td>8.000000</td>\n",
       "      <td>16.000000</td>\n",
       "      <td>0.000000</td>\n",
       "      <td>0.000000</td>\n",
       "      <td>0.000000</td>\n",
       "      <td>99.450000</td>\n",
       "      <td>0.000000</td>\n",
       "      <td>18138.000000</td>\n",
       "      <td>164.000000</td>\n",
       "    </tr>\n",
       "    <tr>\n",
       "      <th>75%</th>\n",
       "      <td>2.000000</td>\n",
       "      <td>0.000000</td>\n",
       "      <td>2.000000</td>\n",
       "      <td>3.000000</td>\n",
       "      <td>0.000000</td>\n",
       "      <td>126.000000</td>\n",
       "      <td>2018.000000</td>\n",
       "      <td>10.000000</td>\n",
       "      <td>23.000000</td>\n",
       "      <td>0.000000</td>\n",
       "      <td>0.000000</td>\n",
       "      <td>0.000000</td>\n",
       "      <td>120.000000</td>\n",
       "      <td>1.000000</td>\n",
       "      <td>27206.500000</td>\n",
       "      <td>195.000000</td>\n",
       "    </tr>\n",
       "    <tr>\n",
       "      <th>max</th>\n",
       "      <td>4.000000</td>\n",
       "      <td>10.000000</td>\n",
       "      <td>7.000000</td>\n",
       "      <td>17.000000</td>\n",
       "      <td>1.000000</td>\n",
       "      <td>443.000000</td>\n",
       "      <td>2018.000000</td>\n",
       "      <td>12.000000</td>\n",
       "      <td>31.000000</td>\n",
       "      <td>1.000000</td>\n",
       "      <td>13.000000</td>\n",
       "      <td>58.000000</td>\n",
       "      <td>540.000000</td>\n",
       "      <td>5.000000</td>\n",
       "      <td>36275.000000</td>\n",
       "      <td>797.000000</td>\n",
       "    </tr>\n",
       "  </tbody>\n",
       "</table>\n",
       "</div>"
      ],
      "text/plain": [
       "       no_of_adults  no_of_children  no_of_weekend_nights  no_of_week_nights  \\\n",
       "count  36275.000000    36275.000000          36275.000000       36275.000000   \n",
       "mean       1.844962        0.105279              0.810724           2.204300   \n",
       "std        0.518715        0.402648              0.870644           1.410905   \n",
       "min        0.000000        0.000000              0.000000           0.000000   \n",
       "25%        2.000000        0.000000              0.000000           1.000000   \n",
       "50%        2.000000        0.000000              1.000000           2.000000   \n",
       "75%        2.000000        0.000000              2.000000           3.000000   \n",
       "max        4.000000       10.000000              7.000000          17.000000   \n",
       "\n",
       "       required_car_parking_space     lead_time  arrival_year  arrival_month  \\\n",
       "count                36275.000000  36275.000000  36275.000000   36275.000000   \n",
       "mean                     0.030986     85.232557   2017.820427       7.423653   \n",
       "std                      0.173281     85.930817      0.383836       3.069894   \n",
       "min                      0.000000      0.000000   2017.000000       1.000000   \n",
       "25%                      0.000000     17.000000   2018.000000       5.000000   \n",
       "50%                      0.000000     57.000000   2018.000000       8.000000   \n",
       "75%                      0.000000    126.000000   2018.000000      10.000000   \n",
       "max                      1.000000    443.000000   2018.000000      12.000000   \n",
       "\n",
       "       arrival_date  repeated_guest  no_of_previous_cancellations  \\\n",
       "count  36275.000000    36275.000000                  36275.000000   \n",
       "mean      15.596995        0.025637                      0.023349   \n",
       "std        8.740447        0.158053                      0.368331   \n",
       "min        1.000000        0.000000                      0.000000   \n",
       "25%        8.000000        0.000000                      0.000000   \n",
       "50%       16.000000        0.000000                      0.000000   \n",
       "75%       23.000000        0.000000                      0.000000   \n",
       "max       31.000000        1.000000                     13.000000   \n",
       "\n",
       "       no_of_previous_bookings_not_canceled  avg_price_per_room  \\\n",
       "count                          36275.000000        36275.000000   \n",
       "mean                               0.153411          103.423539   \n",
       "std                                1.754171           35.089424   \n",
       "min                                0.000000            0.000000   \n",
       "25%                                0.000000           80.300000   \n",
       "50%                                0.000000           99.450000   \n",
       "75%                                0.000000          120.000000   \n",
       "max                               58.000000          540.000000   \n",
       "\n",
       "       no_of_special_requests    Customerid   room number  \n",
       "count            36275.000000  36275.000000  36275.000000  \n",
       "mean                 0.619655  18138.000000    220.019655  \n",
       "std                  0.786236  10471.834844    142.805838  \n",
       "min                  0.000000      1.000000    100.000000  \n",
       "25%                  0.000000   9069.500000    132.000000  \n",
       "50%                  0.000000  18138.000000    164.000000  \n",
       "75%                  1.000000  27206.500000    195.000000  \n",
       "max                  5.000000  36275.000000    797.000000  "
      ]
     },
     "execution_count": 10,
     "metadata": {},
     "output_type": "execute_result"
    }
   ],
   "source": [
    "df.describe()"
   ]
  },
  {
   "attachments": {},
   "cell_type": "markdown",
   "id": "1988c9fd",
   "metadata": {},
   "source": [
    "### Creating the correct date format - Yash"
   ]
  },
  {
   "cell_type": "code",
   "execution_count": 18,
   "id": "ea6f825f",
   "metadata": {},
   "outputs": [],
   "source": [
    "df['arrival_date'] = pd.to_datetime(df['arrival_date'], format='%d/%m/%Y')"
   ]
  },
  {
   "cell_type": "code",
   "execution_count": 19,
   "id": "46a381dc",
   "metadata": {},
   "outputs": [
    {
     "data": {
      "text/plain": [
       "0       2017-10-02\n",
       "1       2018-11-06\n",
       "2       2018-02-28\n",
       "3       2018-05-20\n",
       "4       2018-04-11\n",
       "           ...    \n",
       "36270   2018-08-03\n",
       "36271   2018-10-17\n",
       "36272   2018-07-01\n",
       "36273   2018-04-21\n",
       "36274   2018-12-30\n",
       "Name: arrival_date, Length: 36275, dtype: datetime64[ns]"
      ]
     },
     "execution_count": 19,
     "metadata": {},
     "output_type": "execute_result"
    }
   ],
   "source": [
    "df['arrival_date']"
   ]
  },
  {
   "cell_type": "code",
   "execution_count": 20,
   "id": "d2563eb7",
   "metadata": {},
   "outputs": [
    {
     "name": "stdout",
     "output_type": "stream",
     "text": [
      "<class 'pandas.core.frame.DataFrame'>\n",
      "RangeIndex: 36275 entries, 0 to 36274\n",
      "Data columns (total 25 columns):\n",
      " #   Column                                Non-Null Count  Dtype         \n",
      "---  ------                                --------------  -----         \n",
      " 0   Booking_ID                            36275 non-null  object        \n",
      " 1   no_of_adults                          36275 non-null  int64         \n",
      " 2   no_of_children                        36275 non-null  int64         \n",
      " 3   no_of_weekend_nights                  36275 non-null  int64         \n",
      " 4   no_of_week_nights                     36275 non-null  int64         \n",
      " 5   type_of_meal_plan                     36275 non-null  object        \n",
      " 6   required_car_parking_space            36275 non-null  int64         \n",
      " 7   room_type_reserved                    36275 non-null  object        \n",
      " 8   lead_time                             36275 non-null  int64         \n",
      " 9   arrival_year                          36275 non-null  int64         \n",
      " 10  arrival_month                         36275 non-null  int64         \n",
      " 11  arrival_date                          36275 non-null  datetime64[ns]\n",
      " 12  market_segment_type                   36275 non-null  object        \n",
      " 13  repeated_guest                        36275 non-null  int64         \n",
      " 14  no_of_previous_cancellations          36275 non-null  int64         \n",
      " 15  no_of_previous_bookings_not_canceled  36275 non-null  int64         \n",
      " 16  avg_price_per_room                    36275 non-null  float64       \n",
      " 17  no_of_special_requests                36275 non-null  int64         \n",
      " 18  booking_status                        36275 non-null  object        \n",
      " 19  name                                  36275 non-null  object        \n",
      " 20  Customerid                            36275 non-null  int64         \n",
      " 21  room number                           36275 non-null  int64         \n",
      " 22  employee id                           36275 non-null  object        \n",
      " 23  employee name                         36275 non-null  object        \n",
      " 24  role                                  36275 non-null  object        \n",
      "dtypes: datetime64[ns](1), float64(1), int64(14), object(9)\n",
      "memory usage: 6.9+ MB\n"
     ]
    }
   ],
   "source": [
    "df.info()"
   ]
  },
  {
   "attachments": {},
   "cell_type": "markdown",
   "id": "8369ce07",
   "metadata": {},
   "source": [
    "### Decomposing into a seperate employees table -- Sanjana"
   ]
  },
  {
   "cell_type": "code",
   "execution_count": 21,
   "id": "a1e90213",
   "metadata": {},
   "outputs": [],
   "source": [
    "employees = df[['employee id','employee name', 'role']]"
   ]
  },
  {
   "cell_type": "code",
   "execution_count": 22,
   "id": "56b62af1",
   "metadata": {},
   "outputs": [
    {
     "data": {
      "text/html": [
       "<div>\n",
       "<style scoped>\n",
       "    .dataframe tbody tr th:only-of-type {\n",
       "        vertical-align: middle;\n",
       "    }\n",
       "\n",
       "    .dataframe tbody tr th {\n",
       "        vertical-align: top;\n",
       "    }\n",
       "\n",
       "    .dataframe thead th {\n",
       "        text-align: right;\n",
       "    }\n",
       "</style>\n",
       "<table border=\"1\" class=\"dataframe\">\n",
       "  <thead>\n",
       "    <tr style=\"text-align: right;\">\n",
       "      <th></th>\n",
       "      <th>employee id</th>\n",
       "      <th>employee name</th>\n",
       "      <th>role</th>\n",
       "    </tr>\n",
       "  </thead>\n",
       "  <tbody>\n",
       "    <tr>\n",
       "      <th>0</th>\n",
       "      <td>E1001</td>\n",
       "      <td>Sam</td>\n",
       "      <td>Assistant</td>\n",
       "    </tr>\n",
       "    <tr>\n",
       "      <th>1</th>\n",
       "      <td>E1001</td>\n",
       "      <td>Sam</td>\n",
       "      <td>Assistant</td>\n",
       "    </tr>\n",
       "    <tr>\n",
       "      <th>2</th>\n",
       "      <td>E1001</td>\n",
       "      <td>Sam</td>\n",
       "      <td>Assistant</td>\n",
       "    </tr>\n",
       "    <tr>\n",
       "      <th>3</th>\n",
       "      <td>E1001</td>\n",
       "      <td>Sam</td>\n",
       "      <td>Assistant</td>\n",
       "    </tr>\n",
       "    <tr>\n",
       "      <th>4</th>\n",
       "      <td>E1001</td>\n",
       "      <td>Sam</td>\n",
       "      <td>Assistant</td>\n",
       "    </tr>\n",
       "    <tr>\n",
       "      <th>...</th>\n",
       "      <td>...</td>\n",
       "      <td>...</td>\n",
       "      <td>...</td>\n",
       "    </tr>\n",
       "    <tr>\n",
       "      <th>36270</th>\n",
       "      <td>E1006</td>\n",
       "      <td>Lara</td>\n",
       "      <td>Assistant</td>\n",
       "    </tr>\n",
       "    <tr>\n",
       "      <th>36271</th>\n",
       "      <td>E1006</td>\n",
       "      <td>Lara</td>\n",
       "      <td>Assistant</td>\n",
       "    </tr>\n",
       "    <tr>\n",
       "      <th>36272</th>\n",
       "      <td>E1006</td>\n",
       "      <td>Lara</td>\n",
       "      <td>Assistant</td>\n",
       "    </tr>\n",
       "    <tr>\n",
       "      <th>36273</th>\n",
       "      <td>E1006</td>\n",
       "      <td>Lara</td>\n",
       "      <td>Assistant</td>\n",
       "    </tr>\n",
       "    <tr>\n",
       "      <th>36274</th>\n",
       "      <td>E1006</td>\n",
       "      <td>Lara</td>\n",
       "      <td>Assistant</td>\n",
       "    </tr>\n",
       "  </tbody>\n",
       "</table>\n",
       "<p>36275 rows × 3 columns</p>\n",
       "</div>"
      ],
      "text/plain": [
       "      employee id employee name       role\n",
       "0           E1001           Sam  Assistant\n",
       "1           E1001           Sam  Assistant\n",
       "2           E1001           Sam  Assistant\n",
       "3           E1001           Sam  Assistant\n",
       "4           E1001           Sam  Assistant\n",
       "...           ...           ...        ...\n",
       "36270       E1006          Lara  Assistant\n",
       "36271       E1006          Lara  Assistant\n",
       "36272       E1006          Lara  Assistant\n",
       "36273       E1006          Lara  Assistant\n",
       "36274       E1006          Lara  Assistant\n",
       "\n",
       "[36275 rows x 3 columns]"
      ]
     },
     "execution_count": 22,
     "metadata": {},
     "output_type": "execute_result"
    }
   ],
   "source": [
    "employees"
   ]
  },
  {
   "cell_type": "code",
   "execution_count": 33,
   "id": "cf162d7d",
   "metadata": {},
   "outputs": [],
   "source": [
    "employees.to_csv('employees.csv', index=False)"
   ]
  },
  {
   "attachments": {},
   "cell_type": "markdown",
   "id": "d56ecc28",
   "metadata": {},
   "source": [
    "#### Creating the customers Table -- Sanjana"
   ]
  },
  {
   "cell_type": "code",
   "execution_count": 47,
   "id": "26e4b351",
   "metadata": {},
   "outputs": [],
   "source": [
    "customer = df[['Customerid', 'name']].drop_duplicates()"
   ]
  },
  {
   "cell_type": "code",
   "execution_count": 35,
   "id": "194d88d7",
   "metadata": {},
   "outputs": [],
   "source": [
    "customer.to_csv('customers.csv', index=False)"
   ]
  },
  {
   "cell_type": "code",
   "execution_count": 36,
   "id": "ff88c69e",
   "metadata": {},
   "outputs": [
    {
     "data": {
      "text/plain": [
       "Index(['Booking_ID', 'no_of_adults', 'no_of_children', 'no_of_weekend_nights',\n",
       "       'no_of_week_nights', 'type_of_meal_plan', 'required_car_parking_space',\n",
       "       'room_type_reserved', 'lead_time', 'arrival_year', 'arrival_month',\n",
       "       'arrival_date', 'market_segment_type', 'repeated_guest',\n",
       "       'no_of_previous_cancellations', 'no_of_previous_bookings_not_canceled',\n",
       "       'avg_price_per_room', 'no_of_special_requests', 'booking_status',\n",
       "       'name', 'Customerid', 'room number', 'employee id', 'employee name',\n",
       "       'role', 'checkout_date', 'payment_date', 'paymentamount',\n",
       "       'payment type'],\n",
       "      dtype='object')"
      ]
     },
     "execution_count": 36,
     "metadata": {},
     "output_type": "execute_result"
    }
   ],
   "source": [
    "df.columns"
   ]
  },
  {
   "attachments": {},
   "cell_type": "markdown",
   "id": "927f0a3e",
   "metadata": {},
   "source": [
    "### Decomposing into rooms table -- Yash"
   ]
  },
  {
   "cell_type": "code",
   "execution_count": 37,
   "id": "5f775e9f",
   "metadata": {},
   "outputs": [],
   "source": [
    "room = df[['room number', 'room_type_reserved']].drop_duplicates()"
   ]
  },
  {
   "cell_type": "code",
   "execution_count": 38,
   "id": "c149d37c",
   "metadata": {},
   "outputs": [
    {
     "data": {
      "text/html": [
       "<div>\n",
       "<style scoped>\n",
       "    .dataframe tbody tr th:only-of-type {\n",
       "        vertical-align: middle;\n",
       "    }\n",
       "\n",
       "    .dataframe tbody tr th {\n",
       "        vertical-align: top;\n",
       "    }\n",
       "\n",
       "    .dataframe thead th {\n",
       "        text-align: right;\n",
       "    }\n",
       "</style>\n",
       "<table border=\"1\" class=\"dataframe\">\n",
       "  <thead>\n",
       "    <tr style=\"text-align: right;\">\n",
       "      <th></th>\n",
       "      <th>Booking_ID</th>\n",
       "      <th>no_of_adults</th>\n",
       "      <th>no_of_children</th>\n",
       "      <th>no_of_weekend_nights</th>\n",
       "      <th>no_of_week_nights</th>\n",
       "      <th>type_of_meal_plan</th>\n",
       "      <th>required_car_parking_space</th>\n",
       "      <th>room_type_reserved</th>\n",
       "      <th>lead_time</th>\n",
       "      <th>arrival_year</th>\n",
       "      <th>...</th>\n",
       "      <th>name</th>\n",
       "      <th>Customerid</th>\n",
       "      <th>room number</th>\n",
       "      <th>employee id</th>\n",
       "      <th>employee name</th>\n",
       "      <th>role</th>\n",
       "      <th>checkout_date</th>\n",
       "      <th>payment_date</th>\n",
       "      <th>paymentamount</th>\n",
       "      <th>payment type</th>\n",
       "    </tr>\n",
       "  </thead>\n",
       "  <tbody>\n",
       "    <tr>\n",
       "      <th>0</th>\n",
       "      <td>INN00001</td>\n",
       "      <td>2</td>\n",
       "      <td>0</td>\n",
       "      <td>1</td>\n",
       "      <td>2</td>\n",
       "      <td>Meal Plan 1</td>\n",
       "      <td>0</td>\n",
       "      <td>Room_Type 1</td>\n",
       "      <td>224</td>\n",
       "      <td>2017</td>\n",
       "      <td>...</td>\n",
       "      <td>Tyler Smith</td>\n",
       "      <td>1</td>\n",
       "      <td>135</td>\n",
       "      <td>E1001</td>\n",
       "      <td>Sam</td>\n",
       "      <td>Assistant</td>\n",
       "      <td>2017-10-05</td>\n",
       "      <td>2017-02-20</td>\n",
       "      <td>65.00</td>\n",
       "      <td>card</td>\n",
       "    </tr>\n",
       "    <tr>\n",
       "      <th>1</th>\n",
       "      <td>INN00002</td>\n",
       "      <td>2</td>\n",
       "      <td>0</td>\n",
       "      <td>2</td>\n",
       "      <td>3</td>\n",
       "      <td>Not Selected</td>\n",
       "      <td>0</td>\n",
       "      <td>Room_Type 1</td>\n",
       "      <td>5</td>\n",
       "      <td>2018</td>\n",
       "      <td>...</td>\n",
       "      <td>Scott Young</td>\n",
       "      <td>2</td>\n",
       "      <td>137</td>\n",
       "      <td>E1001</td>\n",
       "      <td>Sam</td>\n",
       "      <td>Assistant</td>\n",
       "      <td>2018-11-11</td>\n",
       "      <td>2018-11-01</td>\n",
       "      <td>106.68</td>\n",
       "      <td>card</td>\n",
       "    </tr>\n",
       "    <tr>\n",
       "      <th>2</th>\n",
       "      <td>INN00003</td>\n",
       "      <td>1</td>\n",
       "      <td>0</td>\n",
       "      <td>2</td>\n",
       "      <td>1</td>\n",
       "      <td>Meal Plan 1</td>\n",
       "      <td>0</td>\n",
       "      <td>Room_Type 1</td>\n",
       "      <td>1</td>\n",
       "      <td>2018</td>\n",
       "      <td>...</td>\n",
       "      <td>Heather Meyer</td>\n",
       "      <td>3</td>\n",
       "      <td>174</td>\n",
       "      <td>E1001</td>\n",
       "      <td>Sam</td>\n",
       "      <td>Assistant</td>\n",
       "      <td>2018-03-03</td>\n",
       "      <td>2018-02-27</td>\n",
       "      <td>60.00</td>\n",
       "      <td>card</td>\n",
       "    </tr>\n",
       "    <tr>\n",
       "      <th>3</th>\n",
       "      <td>INN00004</td>\n",
       "      <td>2</td>\n",
       "      <td>0</td>\n",
       "      <td>0</td>\n",
       "      <td>2</td>\n",
       "      <td>Meal Plan 1</td>\n",
       "      <td>0</td>\n",
       "      <td>Room_Type 1</td>\n",
       "      <td>211</td>\n",
       "      <td>2018</td>\n",
       "      <td>...</td>\n",
       "      <td>Erik Moreno</td>\n",
       "      <td>4</td>\n",
       "      <td>160</td>\n",
       "      <td>E1001</td>\n",
       "      <td>Sam</td>\n",
       "      <td>Assistant</td>\n",
       "      <td>2018-05-22</td>\n",
       "      <td>2017-10-21</td>\n",
       "      <td>100.00</td>\n",
       "      <td>card</td>\n",
       "    </tr>\n",
       "    <tr>\n",
       "      <th>4</th>\n",
       "      <td>INN00005</td>\n",
       "      <td>2</td>\n",
       "      <td>0</td>\n",
       "      <td>1</td>\n",
       "      <td>1</td>\n",
       "      <td>Not Selected</td>\n",
       "      <td>0</td>\n",
       "      <td>Room_Type 1</td>\n",
       "      <td>48</td>\n",
       "      <td>2018</td>\n",
       "      <td>...</td>\n",
       "      <td>Robert Rollins</td>\n",
       "      <td>5</td>\n",
       "      <td>150</td>\n",
       "      <td>E1001</td>\n",
       "      <td>Sam</td>\n",
       "      <td>Assistant</td>\n",
       "      <td>2018-04-13</td>\n",
       "      <td>2018-02-22</td>\n",
       "      <td>94.50</td>\n",
       "      <td>card</td>\n",
       "    </tr>\n",
       "  </tbody>\n",
       "</table>\n",
       "<p>5 rows × 29 columns</p>\n",
       "</div>"
      ],
      "text/plain": [
       "  Booking_ID  no_of_adults  no_of_children  no_of_weekend_nights  \\\n",
       "0   INN00001             2               0                     1   \n",
       "1   INN00002             2               0                     2   \n",
       "2   INN00003             1               0                     2   \n",
       "3   INN00004             2               0                     0   \n",
       "4   INN00005             2               0                     1   \n",
       "\n",
       "   no_of_week_nights type_of_meal_plan  required_car_parking_space  \\\n",
       "0                  2       Meal Plan 1                           0   \n",
       "1                  3      Not Selected                           0   \n",
       "2                  1       Meal Plan 1                           0   \n",
       "3                  2       Meal Plan 1                           0   \n",
       "4                  1      Not Selected                           0   \n",
       "\n",
       "  room_type_reserved  lead_time  arrival_year  ...            name Customerid  \\\n",
       "0        Room_Type 1        224          2017  ...     Tyler Smith          1   \n",
       "1        Room_Type 1          5          2018  ...     Scott Young          2   \n",
       "2        Room_Type 1          1          2018  ...   Heather Meyer          3   \n",
       "3        Room_Type 1        211          2018  ...     Erik Moreno          4   \n",
       "4        Room_Type 1         48          2018  ...  Robert Rollins          5   \n",
       "\n",
       "  room number  employee id  employee name       role  checkout_date  \\\n",
       "0         135        E1001            Sam  Assistant     2017-10-05   \n",
       "1         137        E1001            Sam  Assistant     2018-11-11   \n",
       "2         174        E1001            Sam  Assistant     2018-03-03   \n",
       "3         160        E1001            Sam  Assistant     2018-05-22   \n",
       "4         150        E1001            Sam  Assistant     2018-04-13   \n",
       "\n",
       "   payment_date paymentamount payment type  \n",
       "0    2017-02-20         65.00         card  \n",
       "1    2018-11-01        106.68         card  \n",
       "2    2018-02-27         60.00         card  \n",
       "3    2017-10-21        100.00         card  \n",
       "4    2018-02-22         94.50         card  \n",
       "\n",
       "[5 rows x 29 columns]"
      ]
     },
     "execution_count": 38,
     "metadata": {},
     "output_type": "execute_result"
    }
   ],
   "source": [
    "### Calculating the checkout date\n",
    "df['checkout_date'] = df['arrival_date'] + pd.to_timedelta(df['no_of_weekend_nights'] + df['no_of_week_nights'], unit='D')\n",
    "\n",
    "df.head()"
   ]
  },
  {
   "cell_type": "code",
   "execution_count": 39,
   "id": "d90d3f8d",
   "metadata": {},
   "outputs": [],
   "source": [
    "df[\"payment_date\"]=df['arrival_date'] - pd.to_timedelta(df['lead_time'] , unit='D')\n"
   ]
  },
  {
   "cell_type": "code",
   "execution_count": 40,
   "id": "fffa25ea",
   "metadata": {},
   "outputs": [],
   "source": [
    "room.to_csv('rooms.csv', index=False)"
   ]
  },
  {
   "cell_type": "code",
   "execution_count": 41,
   "id": "aa4fd25b",
   "metadata": {},
   "outputs": [],
   "source": [
    "df[\"paymentamount\"]=df[\"avg_price_per_room\"]"
   ]
  },
  {
   "cell_type": "code",
   "execution_count": 42,
   "id": "ce691fd9",
   "metadata": {},
   "outputs": [],
   "source": [
    "booking_status = df[['Booking_ID', 'booking_status']].drop_duplicates()\n",
    "booking_status.to_csv('booking_status.csv', index=False)\n"
   ]
  },
  {
   "attachments": {},
   "cell_type": "markdown",
   "id": "c7bff787",
   "metadata": {},
   "source": [
    "### Decomposing into hotels table- Yash"
   ]
  },
  {
   "cell_type": "code",
   "execution_count": 44,
   "id": "63c615ed",
   "metadata": {},
   "outputs": [],
   "source": [
    "df['payment type'] = 'card'"
   ]
  },
  {
   "cell_type": "code",
   "execution_count": 45,
   "id": "ee3d8dd3",
   "metadata": {},
   "outputs": [
    {
     "data": {
      "text/plain": [
       "Index(['Booking_ID', 'no_of_adults', 'no_of_children', 'no_of_weekend_nights',\n",
       "       'no_of_week_nights', 'type_of_meal_plan', 'required_car_parking_space',\n",
       "       'room_type_reserved', 'lead_time', 'arrival_year', 'arrival_month',\n",
       "       'arrival_date', 'market_segment_type', 'repeated_guest',\n",
       "       'no_of_previous_cancellations', 'no_of_previous_bookings_not_canceled',\n",
       "       'avg_price_per_room', 'no_of_special_requests', 'booking_status',\n",
       "       'name', 'Customerid', 'room number', 'employee id', 'employee name',\n",
       "       'role', 'checkout_date', 'payment_date', 'paymentamount',\n",
       "       'payment type'],\n",
       "      dtype='object')"
      ]
     },
     "execution_count": 45,
     "metadata": {},
     "output_type": "execute_result"
    }
   ],
   "source": [
    "df.columns"
   ]
  },
  {
   "cell_type": "code",
   "execution_count": 46,
   "id": "668b90f3",
   "metadata": {},
   "outputs": [],
   "source": [
    "df.to_csv('hotelsreservation.csv', index=False)"
   ]
  },
  {
   "attachments": {},
   "cell_type": "markdown",
   "id": "6902b7bd",
   "metadata": {},
   "source": [
    "### Loading the data and connecting it to the MySQL Server\n",
    "\n"
   ]
  },
  {
   "cell_type": "code",
   "execution_count": 2,
   "id": "e7c3f14d",
   "metadata": {},
   "outputs": [
    {
     "name": "stdout",
     "output_type": "stream",
     "text": [
      "Intel MKL WARNING: Support of Intel(R) Streaming SIMD Extensions 4.2 (Intel(R) SSE4.2) enabled only processors has been deprecated. Intel oneAPI Math Kernel Library 2025.0 will require Intel(R) Advanced Vector Extensions (Intel(R) AVX) instructions.\n",
      "Intel MKL WARNING: Support of Intel(R) Streaming SIMD Extensions 4.2 (Intel(R) SSE4.2) enabled only processors has been deprecated. Intel oneAPI Math Kernel Library 2025.0 will require Intel(R) Advanced Vector Extensions (Intel(R) AVX) instructions.\n"
     ]
    }
   ],
   "source": [
    "import mysql.connector\n",
    "import pandas as pd"
   ]
  },
  {
   "attachments": {},
   "cell_type": "markdown",
   "id": "63c2ad7f",
   "metadata": {},
   "source": [
    "### Connecting the dataframe to the mysql connector -- Mohit "
   ]
  },
  {
   "cell_type": "code",
   "execution_count": 2,
   "id": "60cb7bfd",
   "metadata": {},
   "outputs": [],
   "source": [
    "import mysql.connector\n",
    "\n",
    "\n",
    "cnx = mysql.connector.connect(user='root', password='',\n",
    "                              host='localhost', port=3306)\n",
    "\n",
    "\n",
    "cursor = cnx.cursor()\n",
    "cursor.execute(\"CREATE DATABASE reservepro\")\n",
    "\n",
    "cursor.close()\n",
    "cnx.close()\n"
   ]
  },
  {
   "cell_type": "code",
   "execution_count": 3,
   "id": "a07811b9",
   "metadata": {},
   "outputs": [],
   "source": [
    "import mysql.connector\n",
    "\n",
    "\n",
    "cnx = mysql.connector.connect(user='root', password='',\n",
    "                              host='localhost', port=3306,\n",
    "                              database='reservepro')\n",
    "cursor = cnx.cursor()"
   ]
  },
  {
   "cell_type": "code",
   "execution_count": 4,
   "id": "a4182138",
   "metadata": {},
   "outputs": [
    {
     "data": {
      "text/plain": [
       "Index(['Booking_ID', 'no_of_adults', 'no_of_children', 'no_of_weekend_nights',\n",
       "       'no_of_week_nights', 'type_of_meal_plan', 'required_car_parking_space',\n",
       "       'room_type_reserved', 'lead_time', 'arrival_year', 'arrival_month',\n",
       "       'arrival_date', 'market_segment_type', 'repeated_guest',\n",
       "       'no_of_previous_cancellations', 'no_of_previous_bookings_not_canceled',\n",
       "       'avg_price_per_room', 'no_of_special_requests', 'booking_status',\n",
       "       'name', 'Customerid', 'room number', 'employee id', 'employee name',\n",
       "       'role', 'checkout_date', 'payment_date', 'paymentamount',\n",
       "       'payment type'],\n",
       "      dtype='object')"
      ]
     },
     "execution_count": 4,
     "metadata": {},
     "output_type": "execute_result"
    }
   ],
   "source": [
    "hoteldf=pd.read_csv(\"hotelsreservation.csv\")\n",
    "hoteldf.columns"
   ]
  },
  {
   "attachments": {},
   "cell_type": "markdown",
   "id": "facccc83",
   "metadata": {},
   "source": [
    "#### Renaming some of the columns-- Mohit"
   ]
  },
  {
   "cell_type": "code",
   "execution_count": 5,
   "id": "6b21bbb7",
   "metadata": {},
   "outputs": [],
   "source": [
    "hoteldf = hoteldf.rename(columns={'employee id': 'employee_id'})\n",
    "hoteldf = hoteldf.rename(columns={'room number': 'room_number'})"
   ]
  },
  {
   "attachments": {},
   "cell_type": "markdown",
   "id": "4310b4e7",
   "metadata": {},
   "source": [
    "### Populating the Customers Table-- Mohit"
   ]
  },
  {
   "cell_type": "code",
   "execution_count": 6,
   "id": "2ecbd547",
   "metadata": {},
   "outputs": [],
   "source": [
    "cursor.execute('''\n",
    "    CREATE TABLE customers (\n",
    "        customer_id INT AUTO_INCREMENT PRIMARY KEY,\n",
    "        name VARCHAR(50) NOT NULL,\n",
    "        repeated_guest INT NOT NULL DEFAULT 0,\n",
    "        no_of_previous_cancellations INT NOT NULL DEFAULT 0\n",
    "        \n",
    "    )\n",
    "''')\n"
   ]
  },
  {
   "cell_type": "code",
   "execution_count": 7,
   "id": "9ac58bab",
   "metadata": {},
   "outputs": [],
   "source": [
    "for row in hoteldf.itertuples():\n",
    "    cursor.execute('''\n",
    "        INSERT INTO customers (name, \n",
    "                                    repeated_guest,no_of_previous_cancellations  )\n",
    "        VALUES ( %s, %s, %s)\n",
    "        ''',\n",
    "        (\n",
    "        row.name,\n",
    "        row.repeated_guest,\n",
    "        row.no_of_previous_cancellations,\n",
    "        ))\n",
    "    cnx.commit()"
   ]
  },
  {
   "attachments": {},
   "cell_type": "markdown",
   "id": "8b8e1962",
   "metadata": {},
   "source": [
    "#### Populating the Reservations table-- Sanjana"
   ]
  },
  {
   "cell_type": "code",
   "execution_count": 58,
   "id": "16c70f4c",
   "metadata": {},
   "outputs": [],
   "source": [
    "cursor.execute('''\n",
    "    CREATE TABLE reservations (\n",
    "        booking_id VARCHAR(20) PRIMARY KEY,\n",
    "        customer_id INT NOT NULL REFERENCES customers(customer_id),\n",
    "        roomnumber INT REFERENCES rooms(roomnumber),\n",
    "        employee_id VARCHAR(20) NOT NULL REFERENCES employees(employee_id),\n",
    "        no_of_adults INT NOT NULL,\n",
    "        no_of_children INT,\n",
    "        no_of_weekend_nights INT,\n",
    "        no_of_week_nights INT,\n",
    "        CONSTRAINT positive_adults CHECK (no_of_adults >= 0)\n",
    "    )\n",
    "''')\n"
   ]
  },
  {
   "cell_type": "code",
   "execution_count": 59,
   "id": "1399a02a",
   "metadata": {},
   "outputs": [],
   "source": [
    "for row in hoteldf.itertuples():\n",
    "    cursor.execute('''\n",
    "        SELECT customer_id FROM customers WHERE customer_id   = %s\n",
    "    ''', (row.Customerid,))\n",
    "    result = cursor.fetchone()\n",
    "    if result:\n",
    "        customer_id = result[0]\n",
    "        cursor.execute('''\n",
    "            INSERT INTO reservations (booking_id,\n",
    "                                        customer_id,\n",
    "                                        roomnumber,\n",
    "                                        employee_id,\n",
    "                                        no_of_adults,\n",
    "                                        no_of_children,\n",
    "                                        no_of_weekend_nights,\n",
    "                                        no_of_week_nights)\n",
    "            VALUES (%s, %s, %s, %s, %s, %s, %s, %s)\n",
    "        ''',\n",
    "        (row.Booking_ID,\n",
    "         customer_id,\n",
    "         row.room_number,\n",
    "         row.employee_id,\n",
    "         row.no_of_adults,\n",
    "         row.no_of_children,\n",
    "         row.no_of_weekend_nights,\n",
    "         row.no_of_week_nights))\n",
    "        cnx.commit()\n",
    "    else:\n",
    "        print(\"Customer ID not found for Customerid:\", row.Customerid)\n"
   ]
  },
  {
   "attachments": {},
   "cell_type": "markdown",
   "id": "f97a5932",
   "metadata": {},
   "source": [
    "### Populating the Checkins table-- Sanjana"
   ]
  },
  {
   "cell_type": "code",
   "execution_count": 61,
   "id": "3ddaa58b",
   "metadata": {},
   "outputs": [],
   "source": [
    "cursor.execute('''\n",
    "    CREATE TABLE Checkins (\n",
    "    booking_id varchar(20) references reservations(booking_id),\n",
    "    arrival_date datetime,\n",
    "    checkoutdate datetime )\n",
    "''')"
   ]
  },
  {
   "cell_type": "code",
   "execution_count": 62,
   "id": "f3fdb449",
   "metadata": {},
   "outputs": [],
   "source": [
    "for row in hoteldf.itertuples():\n",
    "    cursor.execute('''\n",
    "        INSERT INTO checkins (booking_id ,\n",
    "        arrival_date ,\n",
    "    checkoutdate   )\n",
    "        VALUES (%s, %s, %s)\n",
    "        ''',\n",
    "                   \n",
    "        ( row.Booking_ID,\n",
    "        row.arrival_date,\n",
    "        row.checkout_date\n",
    "         \n",
    "        ))\n",
    "    cnx.commit()"
   ]
  },
  {
   "attachments": {},
   "cell_type": "markdown",
   "id": "e9fe9524",
   "metadata": {},
   "source": [
    "### Populating Additional requests table --Yash"
   ]
  },
  {
   "cell_type": "code",
   "execution_count": 64,
   "id": "da766afc",
   "metadata": {},
   "outputs": [],
   "source": [
    "cursor.execute('''\n",
    "    CREATE TABLE additional_requests (\n",
    "        customer_id int references customers(customer_id),\n",
    "        specialrequests int,\n",
    "        requiredcarspace int\n",
    "    )\n",
    "''')"
   ]
  },
  {
   "cell_type": "code",
   "execution_count": 65,
   "id": "6d924d48",
   "metadata": {},
   "outputs": [],
   "source": [
    "for row in hoteldf.itertuples():\n",
    "    cursor.execute('''\n",
    "        INSERT INTO additional_requests (customer_id, specialrequests,requiredcarspace)\n",
    "        VALUES (%s, %s,%s)\n",
    "        ''',\n",
    "        (row.Customerid,\n",
    "        row.no_of_special_requests,\n",
    "        row.required_car_parking_space))\n",
    "    cnx.commit()"
   ]
  },
  {
   "attachments": {},
   "cell_type": "markdown",
   "id": "c31fc2ac",
   "metadata": {},
   "source": [
    "### Creating the restaurants table for the chefs -- Yash"
   ]
  },
  {
   "cell_type": "code",
   "execution_count": 67,
   "id": "668a5c53",
   "metadata": {},
   "outputs": [],
   "source": [
    "cursor.execute('''\n",
    "    CREATE TABLE restaurants (\n",
    "        booking_id varchar(20) references reservations(booking_id),\n",
    "        mealtype varchar (20) NOT NULL\n",
    "    )\n",
    "''')"
   ]
  },
  {
   "cell_type": "code",
   "execution_count": 68,
   "id": "715b960c",
   "metadata": {},
   "outputs": [],
   "source": [
    "for row in hoteldf.itertuples():\n",
    "    cursor.execute('''\n",
    "        INSERT INTO restaurants (booking_id,mealtype)\n",
    "        VALUES (%s, %s)\n",
    "        ''',\n",
    "        (row.Booking_ID,\n",
    "        row.type_of_meal_plan ))\n",
    "    cnx.commit()"
   ]
  },
  {
   "attachments": {},
   "cell_type": "markdown",
   "id": "940e3651",
   "metadata": {},
   "source": [
    "### Creating Payment table -- Mohit"
   ]
  },
  {
   "cell_type": "code",
   "execution_count": 72,
   "id": "ea40d1ad",
   "metadata": {},
   "outputs": [],
   "source": [
    "cursor.execute(\"DROP TABLE IF EXISTS Payment\")"
   ]
  },
  {
   "cell_type": "code",
   "execution_count": 73,
   "id": "b6eefc33",
   "metadata": {},
   "outputs": [],
   "source": [
    "cursor.execute('''\n",
    "    CREATE TABLE Payment (\n",
    "        booking_id VARCHAR(20) REFERENCES reservations (booking_id),\n",
    "        paymenttype VARCHAR(20) NOT NULL,\n",
    "        paymentamount FLOAT(10) NOT NULL,\n",
    "        paymentdate DATETIME NOT NULL,\n",
    "        CONSTRAINT positive_payment_amount CHECK (paymentamount >= 0)\n",
    "    )\n",
    "''')"
   ]
  },
  {
   "cell_type": "code",
   "execution_count": 26,
   "id": "ac478918",
   "metadata": {},
   "outputs": [
    {
     "data": {
      "text/plain": [
       "Index(['Booking_ID', 'no_of_adults', 'no_of_children', 'no_of_weekend_nights',\n",
       "       'no_of_week_nights', 'type_of_meal_plan', 'required_car_parking_space',\n",
       "       'room_type_reserved', 'lead_time', 'arrival_year', 'arrival_month',\n",
       "       'arrival_date', 'market_segment_type', 'repeated_guest',\n",
       "       'no_of_previous_cancellations', 'no_of_previous_bookings_not_canceled',\n",
       "       'avg_price_per_room', 'no_of_special_requests', 'booking_status',\n",
       "       'name', 'Customerid', 'room_number', 'employee_id', 'employee name',\n",
       "       'role', 'checkout_date', 'payment_date', 'paymentamount',\n",
       "       'payment type'],\n",
       "      dtype='object')"
      ]
     },
     "execution_count": 26,
     "metadata": {},
     "output_type": "execute_result"
    }
   ],
   "source": [
    "hoteldf.columns"
   ]
  },
  {
   "cell_type": "code",
   "execution_count": 74,
   "id": "6236d1d1",
   "metadata": {},
   "outputs": [],
   "source": [
    "hoteldf = hoteldf.rename(columns={'payment type': 'paymenttype', 'employeename': 'employeename'})"
   ]
  },
  {
   "cell_type": "code",
   "execution_count": 75,
   "id": "50a7bee7",
   "metadata": {},
   "outputs": [],
   "source": [
    "for row in hoteldf.itertuples():\n",
    "    cursor.execute('''\n",
    "        INSERT INTO payment (booking_id,paymenttype,paymentamount,paymentdate )\n",
    "        VALUES (%s, %s,%s, %s)\n",
    "        ''',\n",
    "        (row.Booking_ID,\n",
    "         row.paymenttype,\n",
    "        row.paymentamount,\n",
    "        row.payment_date))\n",
    "    cnx.commit()"
   ]
  },
  {
   "cell_type": "code",
   "execution_count": 29,
   "id": "111ccd11",
   "metadata": {},
   "outputs": [],
   "source": [
    "employee=pd.read_csv(\"employees.csv\")"
   ]
  },
  {
   "cell_type": "code",
   "execution_count": 30,
   "id": "2e23cac2",
   "metadata": {},
   "outputs": [
    {
     "data": {
      "text/html": [
       "<div>\n",
       "<style scoped>\n",
       "    .dataframe tbody tr th:only-of-type {\n",
       "        vertical-align: middle;\n",
       "    }\n",
       "\n",
       "    .dataframe tbody tr th {\n",
       "        vertical-align: top;\n",
       "    }\n",
       "\n",
       "    .dataframe thead th {\n",
       "        text-align: right;\n",
       "    }\n",
       "</style>\n",
       "<table border=\"1\" class=\"dataframe\">\n",
       "  <thead>\n",
       "    <tr style=\"text-align: right;\">\n",
       "      <th></th>\n",
       "      <th>employee id</th>\n",
       "      <th>employee name</th>\n",
       "      <th>role</th>\n",
       "    </tr>\n",
       "  </thead>\n",
       "  <tbody>\n",
       "    <tr>\n",
       "      <th>0</th>\n",
       "      <td>E1001</td>\n",
       "      <td>Sam</td>\n",
       "      <td>Assistant</td>\n",
       "    </tr>\n",
       "    <tr>\n",
       "      <th>1</th>\n",
       "      <td>E1001</td>\n",
       "      <td>Sam</td>\n",
       "      <td>Assistant</td>\n",
       "    </tr>\n",
       "    <tr>\n",
       "      <th>2</th>\n",
       "      <td>E1001</td>\n",
       "      <td>Sam</td>\n",
       "      <td>Assistant</td>\n",
       "    </tr>\n",
       "    <tr>\n",
       "      <th>3</th>\n",
       "      <td>E1001</td>\n",
       "      <td>Sam</td>\n",
       "      <td>Assistant</td>\n",
       "    </tr>\n",
       "    <tr>\n",
       "      <th>4</th>\n",
       "      <td>E1001</td>\n",
       "      <td>Sam</td>\n",
       "      <td>Assistant</td>\n",
       "    </tr>\n",
       "  </tbody>\n",
       "</table>\n",
       "</div>"
      ],
      "text/plain": [
       "  employee id employee name       role\n",
       "0       E1001           Sam  Assistant\n",
       "1       E1001           Sam  Assistant\n",
       "2       E1001           Sam  Assistant\n",
       "3       E1001           Sam  Assistant\n",
       "4       E1001           Sam  Assistant"
      ]
     },
     "execution_count": 30,
     "metadata": {},
     "output_type": "execute_result"
    }
   ],
   "source": [
    "employee.head()"
   ]
  },
  {
   "attachments": {},
   "cell_type": "markdown",
   "id": "5c779adb",
   "metadata": {},
   "source": [
    "### Populating Staff Table-- Sanjana"
   ]
  },
  {
   "cell_type": "code",
   "execution_count": 77,
   "id": "4d268793",
   "metadata": {},
   "outputs": [],
   "source": [
    "cursor.execute('''\n",
    "    CREATE TABLE  staff (\n",
    "    booking_id VARCHAR(20) REFERENCES reservations (booking_id),\n",
    "        employee_id varchar(20) NOT NULL,\n",
    "        name varchar(20) ,\n",
    "        role varchar(20) \n",
    "    )\n",
    "''')"
   ]
  },
  {
   "cell_type": "code",
   "execution_count": 78,
   "id": "44b82a86",
   "metadata": {},
   "outputs": [],
   "source": [
    "employee = employee.rename(columns={'employee id': 'id', 'employee name': 'name'})"
   ]
  },
  {
   "cell_type": "code",
   "execution_count": 79,
   "id": "69add4b3",
   "metadata": {},
   "outputs": [],
   "source": [
    "for row in employee.itertuples():\n",
    "    cursor.execute('''\n",
    "        INSERT INTO staff (employee_id,name,role )\n",
    "        VALUES (%s, %s,%s)\n",
    "        ''',\n",
    "        (row.id,\n",
    "         row.name,\n",
    "        row.role))\n",
    "    cnx.commit()"
   ]
  },
  {
   "attachments": {},
   "cell_type": "markdown",
   "id": "e4bd5528",
   "metadata": {},
   "source": [
    "### Populating the Room_Details table for room information -- Sanjana"
   ]
  },
  {
   "cell_type": "code",
   "execution_count": 80,
   "id": "6559f01a",
   "metadata": {},
   "outputs": [],
   "source": [
    "room=pd.read_csv(\"rooms.csv\")"
   ]
  },
  {
   "cell_type": "code",
   "execution_count": 52,
   "id": "50eff08a",
   "metadata": {},
   "outputs": [
    {
     "data": {
      "text/html": [
       "<div>\n",
       "<style scoped>\n",
       "    .dataframe tbody tr th:only-of-type {\n",
       "        vertical-align: middle;\n",
       "    }\n",
       "\n",
       "    .dataframe tbody tr th {\n",
       "        vertical-align: top;\n",
       "    }\n",
       "\n",
       "    .dataframe thead th {\n",
       "        text-align: right;\n",
       "    }\n",
       "</style>\n",
       "<table border=\"1\" class=\"dataframe\">\n",
       "  <thead>\n",
       "    <tr style=\"text-align: right;\">\n",
       "      <th></th>\n",
       "      <th>room number</th>\n",
       "      <th>room_type_reserved</th>\n",
       "    </tr>\n",
       "  </thead>\n",
       "  <tbody>\n",
       "    <tr>\n",
       "      <th>0</th>\n",
       "      <td>135</td>\n",
       "      <td>Room_Type 1</td>\n",
       "    </tr>\n",
       "    <tr>\n",
       "      <th>1</th>\n",
       "      <td>137</td>\n",
       "      <td>Room_Type 1</td>\n",
       "    </tr>\n",
       "    <tr>\n",
       "      <th>2</th>\n",
       "      <td>174</td>\n",
       "      <td>Room_Type 1</td>\n",
       "    </tr>\n",
       "    <tr>\n",
       "      <th>3</th>\n",
       "      <td>160</td>\n",
       "      <td>Room_Type 1</td>\n",
       "    </tr>\n",
       "    <tr>\n",
       "      <th>4</th>\n",
       "      <td>150</td>\n",
       "      <td>Room_Type 1</td>\n",
       "    </tr>\n",
       "  </tbody>\n",
       "</table>\n",
       "</div>"
      ],
      "text/plain": [
       "   room number room_type_reserved\n",
       "0          135        Room_Type 1\n",
       "1          137        Room_Type 1\n",
       "2          174        Room_Type 1\n",
       "3          160        Room_Type 1\n",
       "4          150        Room_Type 1"
      ]
     },
     "execution_count": 52,
     "metadata": {},
     "output_type": "execute_result"
    }
   ],
   "source": [
    "room.head()"
   ]
  },
  {
   "cell_type": "code",
   "execution_count": 84,
   "id": "9346d985",
   "metadata": {},
   "outputs": [],
   "source": [
    "room = room.rename(columns={'room number': 'roomnumber'})"
   ]
  },
  {
   "cell_type": "code",
   "execution_count": 81,
   "id": "97be78ae",
   "metadata": {},
   "outputs": [],
   "source": [
    "cursor.execute(\"DROP TABLE IF EXISTS rooms\")\n"
   ]
  },
  {
   "cell_type": "code",
   "execution_count": 82,
   "id": "eac17871",
   "metadata": {},
   "outputs": [],
   "source": [
    "cursor.execute('''\n",
    "    CREATE TABLE IF NOT EXISTS Room_Details (\n",
    "    booking_id VARCHAR(20) REFERENCES reservations (booking_id),\n",
    "        roomnumber INT not null,\n",
    "        room_type_reserved VARCHAR(50)\n",
    "    )\n",
    "''')"
   ]
  },
  {
   "cell_type": "code",
   "execution_count": 85,
   "id": "19913541",
   "metadata": {},
   "outputs": [],
   "source": [
    "for row in room.itertuples():\n",
    "    cursor.execute('''\n",
    "        INSERT INTO Room_Details (roomnumber,room_type_reserved )\n",
    "        VALUES (%s, %s)\n",
    "        ''',\n",
    "        (row.roomnumber,\n",
    "         row.room_type_reserved))\n",
    "    cnx.commit()"
   ]
  },
  {
   "attachments": {},
   "cell_type": "markdown",
   "id": "a2f8b771",
   "metadata": {},
   "source": [
    "### Queries which we want to display on our WebPage\n"
   ]
  },
  {
   "attachments": {},
   "cell_type": "markdown",
   "id": "bd35922b",
   "metadata": {},
   "source": [
    "### 1. For the Restaurant to Prepare the Meals selected by the customers.-- Mohit"
   ]
  },
  {
   "cell_type": "code",
   "execution_count": 5,
   "id": "1fc4ac3d",
   "metadata": {},
   "outputs": [
    {
     "name": "stdout",
     "output_type": "stream",
     "text": [
      "      booking_id            name  roomnumber      mealtype\n",
      "0       INN00001     Tyler Smith         135   Meal Plan 1\n",
      "1       INN00002     Scott Young         137  Not Selected\n",
      "2       INN00003   Heather Meyer         174   Meal Plan 1\n",
      "3       INN00004     Erik Moreno         160   Meal Plan 1\n",
      "4       INN00005  Robert Rollins         150  Not Selected\n",
      "...          ...             ...         ...           ...\n",
      "36270   INN36271   Henry Hancock         486   Meal Plan 1\n",
      "36271   INN36272      Jason Kidd         186   Meal Plan 1\n",
      "36272   INN36273  Mitchell Pratt         122   Meal Plan 1\n",
      "36273   INN36274   Daniel Dennis         163  Not Selected\n",
      "36274   INN36275  Jennifer Walsh         123   Meal Plan 1\n",
      "\n",
      "[36275 rows x 4 columns]\n"
     ]
    }
   ],
   "source": [
    "cursor.execute('''\n",
    "    SELECT r.booking_id, c.name, r.roomnumber, r1.mealtype\n",
    "    FROM reservations r\n",
    "    JOIN customers c ON r.customer_id = c.customer_id\n",
    "    JOIN restaurants r1 ON r1.booking_id = r.booking_id\n",
    "''')\n",
    "rows = cursor.fetchall()\n",
    "columns = [desc[0] for desc in cursor.description]\n",
    "\n",
    "\n",
    "df = pd.DataFrame(rows, columns=columns)\n",
    "\n",
    "print(df)\n",
    "\n"
   ]
  },
  {
   "attachments": {},
   "cell_type": "markdown",
   "id": "6eea598f",
   "metadata": {},
   "source": [
    "### 2. Customers who require Parking Spaces -Yash"
   ]
  },
  {
   "cell_type": "code",
   "execution_count": 6,
   "id": "f3eec596",
   "metadata": {},
   "outputs": [
    {
     "name": "stdout",
     "output_type": "stream",
     "text": [
      "      booking_id              name  roomnumber  carparking arrival_date  \\\n",
      "0       INN00001       Tyler Smith         135           0   2017-10-02   \n",
      "1       INN00002       Scott Young         137           0   2018-11-06   \n",
      "2       INN00003     Heather Meyer         174           0   2018-02-28   \n",
      "3       INN00004       Erik Moreno         160           0   2018-05-20   \n",
      "4       INN00005    Robert Rollins         150           0   2018-04-11   \n",
      "...          ...               ...         ...         ...          ...   \n",
      "36270   INN36232  Micheal Martinez         148           0   2018-06-28   \n",
      "36271   INN36240      Marc Solomon         453           0   2018-02-27   \n",
      "36272   INN36243     Ruben Simmons         159           0   2017-09-24   \n",
      "36273   INN36254    Ryan Henderson         179           0   2018-05-17   \n",
      "36274   INN36260    Daniel Walters         153           0   2017-09-09   \n",
      "\n",
      "      checkoutdate  \n",
      "0       2017-10-05  \n",
      "1       2018-11-11  \n",
      "2       2018-03-03  \n",
      "3       2018-05-22  \n",
      "4       2018-04-13  \n",
      "...            ...  \n",
      "36270   2018-06-30  \n",
      "36271   2018-02-28  \n",
      "36272   2017-09-30  \n",
      "36273   2018-05-20  \n",
      "36274   2017-09-12  \n",
      "\n",
      "[36275 rows x 6 columns]\n"
     ]
    }
   ],
   "source": [
    "cursor.execute('''\n",
    "   select  r.booking_id, c.name,r.roomnumber,p.carparking,ch.arrival_date,ch.checkoutdate\n",
    "from reservations r join customers c on r.customer_id=c.customer_id join ParkingSpace p join Checkins ch on p.booking_id=ch.booking_id\n",
    "on p.booking_id=r.booking_id;\n",
    "\n",
    "\n",
    "''')\n",
    "rows = cursor.fetchall()\n",
    "columns = [desc[0] for desc in cursor.description]\n",
    "\n",
    "\n",
    "df = pd.DataFrame(rows, columns=columns)\n",
    "\n",
    "print(df)\n",
    "\n"
   ]
  },
  {
   "attachments": {},
   "cell_type": "markdown",
   "id": "02a389c4",
   "metadata": {},
   "source": [
    "### 3. Customers Checkin and Checkout Dates For The Reception -- Sanjana"
   ]
  },
  {
   "cell_type": "code",
   "execution_count": 7,
   "id": "40a797f6",
   "metadata": {},
   "outputs": [
    {
     "name": "stdout",
     "output_type": "stream",
     "text": [
      "      booking_id               name  roomnumber arrival_date checkoutdate\n",
      "0       INN30226       Kevin Vaughn         100   2017-07-01   2017-07-03\n",
      "1       INN30908     Courtney Evans         103   2017-07-01   2017-07-03\n",
      "2       INN31969      Shane Gardner         177   2017-07-01   2017-07-03\n",
      "3       INN32067  Courtney Williams         107   2017-07-01   2017-07-03\n",
      "4       INN32758   Michele Williams         111   2017-07-01   2017-07-03\n",
      "...          ...                ...         ...          ...          ...\n",
      "36270   INN13467       Erica Werner         113   2018-12-31   2019-01-02\n",
      "36271   INN14290    Larry Fernandez         193   2018-12-31   2019-01-02\n",
      "36272   INN15722    Jeffrey Carroll         183   2018-12-31   2019-01-03\n",
      "36273   INN16054      Rebecca Moore         477   2018-12-31   2019-01-03\n",
      "36274   INN17644       Brenda Price         166   2018-12-31   2019-01-03\n",
      "\n",
      "[36275 rows x 5 columns]\n"
     ]
    }
   ],
   "source": [
    "cursor.execute('''\n",
    "  \n",
    "SELECT r.booking_id, c.name, r.roomnumber, ch.arrival_date,ch.checkoutdate\n",
    "    FROM reservations r\n",
    "    JOIN customers c ON r.customer_id = c.customer_id\n",
    "    join checkins ch  on ch.booking_id=r.booking_id\n",
    "    order by arrival_date asc;\n",
    "\n",
    "\n",
    "\n",
    "''')\n",
    "rows = cursor.fetchall()\n",
    "columns = [desc[0] for desc in cursor.description]\n",
    "\n",
    "\n",
    "df = pd.DataFrame(rows, columns=columns)\n",
    "\n",
    "print(df)\n",
    "\n"
   ]
  },
  {
   "attachments": {},
   "cell_type": "markdown",
   "id": "38320481",
   "metadata": {},
   "source": [
    "### 4. Blacklisted Customers Who have cancelled more than 5 times, are resulting in hotel's revenue loss- Mohit, Sanjana and Yash."
   ]
  },
  {
   "cell_type": "code",
   "execution_count": 8,
   "id": "1989cf1a",
   "metadata": {},
   "outputs": [
    {
     "name": "stdout",
     "output_type": "stream",
     "text": [
      "   BlacklistedID blacklisted_name  cancount\n",
      "0          12098     Vincent Knox        13\n",
      "1          12110     Matthew Lutz        13\n",
      "2          16278     Steven Reyes        13\n",
      "3          30834     Robin Foster        13\n"
     ]
    }
   ],
   "source": [
    "cursor.execute('''\n",
    "  \n",
    "With cte as(\n",
    "SELECT r.customer_id, c.name AS customer_name,c.no_of_previous_cancellations as cancount\n",
    "FROM reservations r \n",
    "JOIN customers c ON r.customer_id = c.customer_id \n",
    "JOIN BookingStatus bs ON bs.booking_id = r.booking_id\n",
    "WHERE bs.booking_status = 'Canceled'\n",
    "GROUP BY r.customer_id, c.name\n",
    "order by c.no_of_previous_cancellations desc)\n",
    "select customer_id as BlacklistedID, customer_name as blacklisted_name, cancount\n",
    "from cte\n",
    "where cancount>5;\n",
    "\n",
    "\n",
    "\n",
    "\n",
    "''')\n",
    "rows = cursor.fetchall()\n",
    "columns = [desc[0] for desc in cursor.description]\n",
    "\n",
    "\n",
    "df = pd.DataFrame(rows, columns=columns)\n",
    "\n",
    "print(df)\n",
    "\n"
   ]
  },
  {
   "attachments": {},
   "cell_type": "markdown",
   "id": "12099e47",
   "metadata": {},
   "source": [
    "#### 5. Total Revenue loss id  avg price of room is 200$'s -Sanjana"
   ]
  },
  {
   "cell_type": "code",
   "execution_count": 9,
   "id": "741dafa5",
   "metadata": {},
   "outputs": [
    {
     "name": "stdout",
     "output_type": "stream",
     "text": [
      "  Total_Revenue_Loss\n",
      "0           $2377000\n"
     ]
    }
   ],
   "source": [
    "cursor.execute('''\n",
    "  \n",
    "\n",
    "\n",
    "SELECT CONCAT('$', \n",
    "    (SELECT COUNT(*) FROM BookingStatus WHERE booking_status = 'Canceled') * 200\n",
    ") AS Total_Revenue_Loss;\n",
    "\n",
    "\n",
    "\n",
    "''')\n",
    "rows = cursor.fetchall()\n",
    "columns = [desc[0] for desc in cursor.description]\n",
    "\n",
    "\n",
    "df = pd.DataFrame(rows, columns=columns)\n",
    "\n",
    "print(df)\n",
    "\n"
   ]
  }
 ],
 "metadata": {
  "kernelspec": {
   "display_name": "Python 3 (ipykernel)",
   "language": "python",
   "name": "python3"
  },
  "language_info": {
   "codemirror_mode": {
    "name": "ipython",
    "version": 3
   },
   "file_extension": ".py",
   "mimetype": "text/x-python",
   "name": "python",
   "nbconvert_exporter": "python",
   "pygments_lexer": "ipython3",
   "version": "3.9.18"
  }
 },
 "nbformat": 4,
 "nbformat_minor": 5
}
