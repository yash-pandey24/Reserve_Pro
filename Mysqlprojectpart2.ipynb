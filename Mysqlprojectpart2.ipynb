{
 "cells": [
  {
   "attachments": {},
   "cell_type": "markdown",
   "id": "6902b7bd",
   "metadata": {},
   "source": [
    "### Loading the data\n",
    "\n"
   ]
  },
  {
   "cell_type": "code",
   "execution_count": 1,
   "id": "e7c3f14d",
   "metadata": {},
   "outputs": [
    {
     "name": "stdout",
     "output_type": "stream",
     "text": [
      "Intel MKL WARNING: Support of Intel(R) Streaming SIMD Extensions 4.2 (Intel(R) SSE4.2) enabled only processors has been deprecated. Intel oneAPI Math Kernel Library 2025.0 will require Intel(R) Advanced Vector Extensions (Intel(R) AVX) instructions.\n",
      "Intel MKL WARNING: Support of Intel(R) Streaming SIMD Extensions 4.2 (Intel(R) SSE4.2) enabled only processors has been deprecated. Intel oneAPI Math Kernel Library 2025.0 will require Intel(R) Advanced Vector Extensions (Intel(R) AVX) instructions.\n"
     ]
    }
   ],
   "source": [
    "import mysql.connector\n",
    "import pandas as pd"
   ]
  },
  {
   "attachments": {},
   "cell_type": "markdown",
   "id": "63c2ad7f",
   "metadata": {},
   "source": [
    "### Connecting the dataframe to the mysql connector -- Mohit "
   ]
  },
  {
   "cell_type": "code",
   "execution_count": 2,
   "id": "60cb7bfd",
   "metadata": {},
   "outputs": [],
   "source": [
    "import mysql.connector\n",
    "\n",
    "\n",
    "cnx = mysql.connector.connect(user='root', password='
    
    ',\n",
    "                              host='localhost', port=3306)\n",
    "\n",
    "\n",
    "cursor = cnx.cursor()\n",
    "cursor.execute(\"CREATE DATABASE reservepro\")\n",
    "\n",
    "cursor.close()\n",
    "cnx.close()\n"
   ]
  },
  {
   "cell_type": "code",
   "execution_count": 3,
   "id": "a07811b9",
   "metadata": {},
   "outputs": [],
   "source": [
    "import mysql.connector\n",
    "\n",
    "# Connect to MySQL server and database\n",
    "cnx = mysql.connector.connect(user='root', password='',\n",
    "                              host='localhost', port=3306,\n",
    "                              database='reservepro')\n",
    "cursor = cnx.cursor()"
   ]
  },
  {
   "cell_type": "code",
   "execution_count": 4,
   "id": "a4182138",
   "metadata": {},
   "outputs": [
    {
     "data": {
      "text/plain": [
       "Index(['Booking_ID', 'no_of_adults', 'no_of_children', 'no_of_weekend_nights',\n",
       "       'no_of_week_nights', 'type_of_meal_plan', 'required_car_parking_space',\n",
       "       'room_type_reserved', 'lead_time', 'arrival_year', 'arrival_month',\n",
       "       'arrival_date', 'market_segment_type', 'repeated_guest',\n",
       "       'no_of_previous_cancellations', 'no_of_previous_bookings_not_canceled',\n",
       "       'avg_price_per_room', 'no_of_special_requests', 'booking_status',\n",
       "       'name', 'Customerid', 'room number', 'employee id', 'employee name',\n",
       "       'role', 'checkout_date', 'payment_date', 'paymentamount',\n",
       "       'payment type'],\n",
       "      dtype='object')"
      ]
     },
     "execution_count": 4,
     "metadata": {},
     "output_type": "execute_result"
    }
   ],
   "source": [
    "hoteldf=pd.read_csv(\"hotelsreservation.csv\")\n",
    "hoteldf.columns"
   ]
  },
  {
   "attachments": {},
   "cell_type": "markdown",
   "id": "facccc83",
   "metadata": {},
   "source": [
    "#### Renaming some of the columns-- Mohit"
   ]
  },
  {
   "cell_type": "code",
   "execution_count": 5,
   "id": "6b21bbb7",
   "metadata": {},
   "outputs": [],
   "source": [
    "hoteldf = hoteldf.rename(columns={'employee id': 'employee_id'})\n",
    "hoteldf = hoteldf.rename(columns={'room number': 'room_number'})"
   ]
  },
  {
   "attachments": {},
   "cell_type": "markdown",
   "id": "4310b4e7",
   "metadata": {},
   "source": [
    "### Populating the Customers Table-- Mohit"
   ]
  },
  {
   "cell_type": "code",
   "execution_count": 6,
   "id": "2ecbd547",
   "metadata": {},
   "outputs": [],
   "source": [
    "cursor.execute('''\n",
    "    CREATE TABLE customers (\n",
    "        customer_id INT AUTO_INCREMENT PRIMARY KEY,\n",
    "        name VARCHAR(50) NOT NULL,\n",
    "        repeated_guest INT NOT NULL DEFAULT 0,\n",
    "        no_of_previous_cancellations INT NOT NULL DEFAULT 0,\n",
    "        no_of_previous_bookings_not_canceled INT NOT NULL DEFAULT 0\n",
    "    )\n",
    "''')\n"
   ]
  },
  {
   "cell_type": "code",
   "execution_count": 7,
   "id": "9ac58bab",
   "metadata": {},
   "outputs": [],
   "source": [
    "for row in hoteldf.itertuples():\n",
    "    cursor.execute('''\n",
    "        INSERT INTO customers (name, \n",
    "                                    repeated_guest,no_of_previous_cancellations ,no_of_previous_bookings_not_canceled )\n",
    "        VALUES ( %s, %s, %s, %s)\n",
    "        ''',\n",
    "        (\n",
    "        row.name,\n",
    "        row.repeated_guest,\n",
    "        row.no_of_previous_cancellations,\n",
    "        row.no_of_previous_bookings_not_canceled))\n",
    "    cnx.commit()"
   ]
  },
  {
   "attachments": {},
   "cell_type": "markdown",
   "id": "8b8e1962",
   "metadata": {},
   "source": [
    "#### Populating the Reservations table-- Sanjana"
   ]
  },
  {
   "cell_type": "code",
   "execution_count": 58,
   "id": "16c70f4c",
   "metadata": {},
   "outputs": [],
   "source": [
    "cursor.execute('''\n",
    "    CREATE TABLE reservations (\n",
    "        booking_id VARCHAR(20) PRIMARY KEY,\n",
    "        customer_id INT NOT NULL REFERENCES customers(customer_id),\n",
    "        roomnumber INT REFERENCES rooms(roomnumber),\n",
    "        employee_id VARCHAR(20) NOT NULL REFERENCES employees(employee_id),\n",
    "        no_of_adults INT NOT NULL,\n",
    "        no_of_children INT,\n",
    "        no_of_weekend_nights INT,\n",
    "        no_of_week_nights INT,\n",
    "        CONSTRAINT positive_adults CHECK (no_of_adults >= 0)\n",
    "    )\n",
    "''')\n"
   ]
  },
  {
   "cell_type": "code",
   "execution_count": 59,
   "id": "1399a02a",
   "metadata": {},
   "outputs": [],
   "source": [
    "for row in hoteldf.itertuples():\n",
    "    cursor.execute('''\n",
    "        SELECT customer_id FROM customers WHERE customer_id   = %s\n",
    "    ''', (row.Customerid,))\n",
    "    result = cursor.fetchone()\n",
    "    if result:\n",
    "        customer_id = result[0]\n",
    "        cursor.execute('''\n",
    "            INSERT INTO reservations (booking_id,\n",
    "                                        customer_id,\n",
    "                                        roomnumber,\n",
    "                                        employee_id,\n",
    "                                        no_of_adults,\n",
    "                                        no_of_children,\n",
    "                                        no_of_weekend_nights,\n",
    "                                        no_of_week_nights)\n",
    "            VALUES (%s, %s, %s, %s, %s, %s, %s, %s)\n",
    "        ''',\n",
    "        (row.Booking_ID,\n",
    "         customer_id,\n",
    "         row.room_number,\n",
    "         row.employee_id,\n",
    "         row.no_of_adults,\n",
    "         row.no_of_children,\n",
    "         row.no_of_weekend_nights,\n",
    "         row.no_of_week_nights))\n",
    "        cnx.commit()\n",
    "    else:\n",
    "        print(\"Customer ID not found for Customerid:\", row.Customerid)\n"
   ]
  },
  {
   "attachments": {},
   "cell_type": "markdown",
   "id": "f97a5932",
   "metadata": {},
   "source": [
    "### Populating the Checkins table-- Sanjana"
   ]
  },
  {
   "cell_type": "code",
   "execution_count": 61,
   "id": "3ddaa58b",
   "metadata": {},
   "outputs": [],
   "source": [
    "cursor.execute('''\n",
    "    CREATE TABLE Checkins (\n",
    "    booking_id varchar(20) references reservations(booking_id),\n",
    "    lead_time int,\n",
    "    arrival_date datetime,\n",
    "    checkoutdate datetime )\n",
    "''')"
   ]
  },
  {
   "cell_type": "code",
   "execution_count": 62,
   "id": "f3fdb449",
   "metadata": {},
   "outputs": [],
   "source": [
    "for row in hoteldf.itertuples():\n",
    "    cursor.execute('''\n",
    "        INSERT INTO checkins (booking_id ,\n",
    "        lead_time ,\n",
    "        arrival_date ,\n",
    "    checkoutdate   )\n",
    "        VALUES (%s, %s, %s, %s)\n",
    "        ''',\n",
    "                   \n",
    "        ( row.Booking_ID,\n",
    "            row.lead_time,\n",
    "        row.arrival_date,\n",
    "        row.checkout_date\n",
    "         \n",
    "        ))\n",
    "    cnx.commit()"
   ]
  },
  {
   "cell_type": "code",
   "execution_count": 18,
   "id": "81b64bb6",
   "metadata": {},
   "outputs": [],
   "source": [
    "cursor.execute('''\n",
    "    CREATE TABLE members (\n",
    "        booking_id varchar(20) references bookingdetains(booking_id),\n",
    "        customer_id int references customers(customer_id),\n",
    "        no_of_adults int,\n",
    "        no_of_children int,\n",
    "        no_of_weekend_nights int,\n",
    "        no_of_week_nights int,\n",
    "        lead_time int,\n",
    "        arrival_year int,\n",
    "        arrival_month int,\n",
    "        arrival_date int,\n",
    "        specialrequests int,\n",
    "        requiredcarspace int\n",
    "    )\n",
    "''')"
   ]
  },
  {
   "attachments": {},
   "cell_type": "markdown",
   "id": "e9fe9524",
   "metadata": {},
   "source": [
    "### Populating Additional requests table --Yash"
   ]
  },
  {
   "cell_type": "code",
   "execution_count": 64,
   "id": "da766afc",
   "metadata": {},
   "outputs": [],
   "source": [
    "cursor.execute('''\n",
    "    CREATE TABLE additional_requests (\n",
    "        customer_id int references customers(customer_id),\n",
    "        specialrequests int,\n",
    "        requiredcarspace int\n",
    "    )\n",
    "''')"
   ]
  },
  {
   "cell_type": "code",
   "execution_count": 65,
   "id": "6d924d48",
   "metadata": {},
   "outputs": [],
   "source": [
    "for row in hoteldf.itertuples():\n",
    "    cursor.execute('''\n",
    "        INSERT INTO additional_requests (customer_id, specialrequests,requiredcarspace)\n",
    "        VALUES (%s, %s,%s)\n",
    "        ''',\n",
    "        (row.Customerid,\n",
    "        row.no_of_special_requests,\n",
    "        row.required_car_parking_space))\n",
    "    cnx.commit()"
   ]
  },
  {
   "attachments": {},
   "cell_type": "markdown",
   "id": "36222d1a",
   "metadata": {},
   "source": [
    "### Creating Booking_Status Table -- Yash"
   ]
  },
  {
   "cell_type": "code",
   "execution_count": 19,
   "id": "3a9a4fec",
   "metadata": {},
   "outputs": [],
   "source": [
    "cursor.execute('''\n",
    "    CREATE TABLE BookingStatus (\n",
    "        booking_id VARCHAR(20) NOT NULL REFERENCES bookingdetails(booking_id),\n",
    "        booking_status VARCHAR(20) NOT NULL\n",
    "    )\n",
    "''')\n"
   ]
  },
  {
   "cell_type": "code",
   "execution_count": 20,
   "id": "68414e35",
   "metadata": {},
   "outputs": [],
   "source": [
    "for row in hoteldf.itertuples():\n",
    "    cursor.execute('''\n",
    "        INSERT INTO BookingStatus (booking_id,booking_status)\n",
    "        VALUES (%s, %s)\n",
    "        ''',\n",
    "        (row.Booking_ID,\n",
    "        row.booking_status))\n",
    "    cnx.commit()"
   ]
  },
  {
   "attachments": {},
   "cell_type": "markdown",
   "id": "c31fc2ac",
   "metadata": {},
   "source": [
    "### Creating the restaurants table for the chefs -- Yash"
   ]
  },
  {
   "cell_type": "code",
   "execution_count": 67,
   "id": "668a5c53",
   "metadata": {},
   "outputs": [],
   "source": [
    "cursor.execute('''\n",
    "    CREATE TABLE restaurants (\n",
    "        booking_id varchar(20) references reservations(booking_id),\n",
    "        mealtype varchar (20) NOT NULL\n",
    "    )\n",
    "''')"
   ]
  },
  {
   "cell_type": "code",
   "execution_count": 68,
   "id": "715b960c",
   "metadata": {},
   "outputs": [],
   "source": [
    "for row in hoteldf.itertuples():\n",
    "    cursor.execute('''\n",
    "        INSERT INTO restaurants (booking_id,mealtype)\n",
    "        VALUES (%s, %s)\n",
    "        ''',\n",
    "        (row.Booking_ID,\n",
    "        row.type_of_meal_plan ))\n",
    "    cnx.commit()"
   ]
  },
  {
   "attachments": {},
   "cell_type": "markdown",
   "id": "940e3651",
   "metadata": {},
   "source": [
    "### Creating Payment table -- Mohit"
   ]
  },
  {
   "cell_type": "code",
   "execution_count": 72,
   "id": "ea40d1ad",
   "metadata": {},
   "outputs": [],
   "source": [
    "cursor.execute(\"DROP TABLE IF EXISTS Payment\")"
   ]
  },
  {
   "cell_type": "code",
   "execution_count": 73,
   "id": "b6eefc33",
   "metadata": {},
   "outputs": [],
   "source": [
    "cursor.execute('''\n",
    "    CREATE TABLE Payment (\n",
    "        booking_id VARCHAR(20) REFERENCES reservations (booking_id),\n",
    "        paymenttype VARCHAR(20) NOT NULL,\n",
    "        paymentamount FLOAT(10) NOT NULL,\n",
    "        paymentdate DATETIME NOT NULL,\n",
    "        CONSTRAINT positive_payment_amount CHECK (paymentamount >= 0)\n",
    "    )\n",
    "''')"
   ]
  },
  {
   "cell_type": "code",
   "execution_count": 26,
   "id": "ac478918",
   "metadata": {},
   "outputs": [
    {
     "data": {
      "text/plain": [
       "Index(['Booking_ID', 'no_of_adults', 'no_of_children', 'no_of_weekend_nights',\n",
       "       'no_of_week_nights', 'type_of_meal_plan', 'required_car_parking_space',\n",
       "       'room_type_reserved', 'lead_time', 'arrival_year', 'arrival_month',\n",
       "       'arrival_date', 'market_segment_type', 'repeated_guest',\n",
       "       'no_of_previous_cancellations', 'no_of_previous_bookings_not_canceled',\n",
       "       'avg_price_per_room', 'no_of_special_requests', 'booking_status',\n",
       "       'name', 'Customerid', 'room_number', 'employee_id', 'employee name',\n",
       "       'role', 'checkout_date', 'payment_date', 'paymentamount',\n",
       "       'payment type'],\n",
       "      dtype='object')"
      ]
     },
     "execution_count": 26,
     "metadata": {},
     "output_type": "execute_result"
    }
   ],
   "source": [
    "hoteldf.columns"
   ]
  },
  {
   "cell_type": "code",
   "execution_count": 74,
   "id": "6236d1d1",
   "metadata": {},
   "outputs": [],
   "source": [
    "hoteldf = hoteldf.rename(columns={'payment type': 'paymenttype', 'employeename': 'employeename'})"
   ]
  },
  {
   "cell_type": "code",
   "execution_count": 75,
   "id": "50a7bee7",
   "metadata": {},
   "outputs": [],
   "source": [
    "for row in hoteldf.itertuples():\n",
    "    cursor.execute('''\n",
    "        INSERT INTO payment (booking_id,paymenttype,paymentamount,paymentdate )\n",
    "        VALUES (%s, %s,%s, %s)\n",
    "        ''',\n",
    "        (row.Booking_ID,\n",
    "         row.paymenttype,\n",
    "        row.paymentamount,\n",
    "        row.payment_date))\n",
    "    cnx.commit()"
   ]
  },
  {
   "cell_type": "code",
   "execution_count": 29,
   "id": "111ccd11",
   "metadata": {},
   "outputs": [],
   "source": [
    "employee=pd.read_csv(\"employees.csv\")"
   ]
  },
  {
   "cell_type": "code",
   "execution_count": 30,
   "id": "2e23cac2",
   "metadata": {},
   "outputs": [
    {
     "data": {
      "text/html": [
       "<div>\n",
       "<style scoped>\n",
       "    .dataframe tbody tr th:only-of-type {\n",
       "        vertical-align: middle;\n",
       "    }\n",
       "\n",
       "    .dataframe tbody tr th {\n",
       "        vertical-align: top;\n",
       "    }\n",
       "\n",
       "    .dataframe thead th {\n",
       "        text-align: right;\n",
       "    }\n",
       "</style>\n",
       "<table border=\"1\" class=\"dataframe\">\n",
       "  <thead>\n",
       "    <tr style=\"text-align: right;\">\n",
       "      <th></th>\n",
       "      <th>employee id</th>\n",
       "      <th>employee name</th>\n",
       "      <th>role</th>\n",
       "    </tr>\n",
       "  </thead>\n",
       "  <tbody>\n",
       "    <tr>\n",
       "      <th>0</th>\n",
       "      <td>E1001</td>\n",
       "      <td>Sam</td>\n",
       "      <td>Assistant</td>\n",
       "    </tr>\n",
       "    <tr>\n",
       "      <th>1</th>\n",
       "      <td>E1001</td>\n",
       "      <td>Sam</td>\n",
       "      <td>Assistant</td>\n",
       "    </tr>\n",
       "    <tr>\n",
       "      <th>2</th>\n",
       "      <td>E1001</td>\n",
       "      <td>Sam</td>\n",
       "      <td>Assistant</td>\n",
       "    </tr>\n",
       "    <tr>\n",
       "      <th>3</th>\n",
       "      <td>E1001</td>\n",
       "      <td>Sam</td>\n",
       "      <td>Assistant</td>\n",
       "    </tr>\n",
       "    <tr>\n",
       "      <th>4</th>\n",
       "      <td>E1001</td>\n",
       "      <td>Sam</td>\n",
       "      <td>Assistant</td>\n",
       "    </tr>\n",
       "  </tbody>\n",
       "</table>\n",
       "</div>"
      ],
      "text/plain": [
       "  employee id employee name       role\n",
       "0       E1001           Sam  Assistant\n",
       "1       E1001           Sam  Assistant\n",
       "2       E1001           Sam  Assistant\n",
       "3       E1001           Sam  Assistant\n",
       "4       E1001           Sam  Assistant"
      ]
     },
     "execution_count": 30,
     "metadata": {},
     "output_type": "execute_result"
    }
   ],
   "source": [
    "employee.head()"
   ]
  },
  {
   "attachments": {},
   "cell_type": "markdown",
   "id": "5c779adb",
   "metadata": {},
   "source": [
    "### Populating Staff Table-- Sanjana"
   ]
  },
  {
   "cell_type": "code",
   "execution_count": 77,
   "id": "4d268793",
   "metadata": {},
   "outputs": [],
   "source": [
    "cursor.execute('''\n",
    "    CREATE TABLE  staff (\n",
    "    booking_id VARCHAR(20) REFERENCES reservations (booking_id),\n",
    "        employee_id varchar(20) NOT NULL,\n",
    "        name varchar(20) ,\n",
    "        role varchar(20) \n",
    "    )\n",
    "''')"
   ]
  },
  {
   "cell_type": "code",
   "execution_count": 78,
   "id": "44b82a86",
   "metadata": {},
   "outputs": [],
   "source": [
    "employee = employee.rename(columns={'employee id': 'id', 'employee name': 'name'})"
   ]
  },
  {
   "cell_type": "code",
   "execution_count": 79,
   "id": "69add4b3",
   "metadata": {},
   "outputs": [],
   "source": [
    "for row in employee.itertuples():\n",
    "    cursor.execute('''\n",
    "        INSERT INTO staff (employee_id,name,role )\n",
    "        VALUES (%s, %s,%s)\n",
    "        ''',\n",
    "        (row.id,\n",
    "         row.name,\n",
    "        row.role))\n",
    "    cnx.commit()"
   ]
  },
  {
   "attachments": {},
   "cell_type": "markdown",
   "id": "e4bd5528",
   "metadata": {},
   "source": [
    "### Populating the Room_Details table for room information -- Sanjana"
   ]
  },
  {
   "cell_type": "code",
   "execution_count": 80,
   "id": "6559f01a",
   "metadata": {},
   "outputs": [],
   "source": [
    "room=pd.read_csv(\"rooms.csv\")"
   ]
  },
  {
   "cell_type": "code",
   "execution_count": 52,
   "id": "50eff08a",
   "metadata": {},
   "outputs": [
    {
     "data": {
      "text/html": [
       "<div>\n",
       "<style scoped>\n",
       "    .dataframe tbody tr th:only-of-type {\n",
       "        vertical-align: middle;\n",
       "    }\n",
       "\n",
       "    .dataframe tbody tr th {\n",
       "        vertical-align: top;\n",
       "    }\n",
       "\n",
       "    .dataframe thead th {\n",
       "        text-align: right;\n",
       "    }\n",
       "</style>\n",
       "<table border=\"1\" class=\"dataframe\">\n",
       "  <thead>\n",
       "    <tr style=\"text-align: right;\">\n",
       "      <th></th>\n",
       "      <th>room number</th>\n",
       "      <th>room_type_reserved</th>\n",
       "    </tr>\n",
       "  </thead>\n",
       "  <tbody>\n",
       "    <tr>\n",
       "      <th>0</th>\n",
       "      <td>135</td>\n",
       "      <td>Room_Type 1</td>\n",
       "    </tr>\n",
       "    <tr>\n",
       "      <th>1</th>\n",
       "      <td>137</td>\n",
       "      <td>Room_Type 1</td>\n",
       "    </tr>\n",
       "    <tr>\n",
       "      <th>2</th>\n",
       "      <td>174</td>\n",
       "      <td>Room_Type 1</td>\n",
       "    </tr>\n",
       "    <tr>\n",
       "      <th>3</th>\n",
       "      <td>160</td>\n",
       "      <td>Room_Type 1</td>\n",
       "    </tr>\n",
       "    <tr>\n",
       "      <th>4</th>\n",
       "      <td>150</td>\n",
       "      <td>Room_Type 1</td>\n",
       "    </tr>\n",
       "  </tbody>\n",
       "</table>\n",
       "</div>"
      ],
      "text/plain": [
       "   room number room_type_reserved\n",
       "0          135        Room_Type 1\n",
       "1          137        Room_Type 1\n",
       "2          174        Room_Type 1\n",
       "3          160        Room_Type 1\n",
       "4          150        Room_Type 1"
      ]
     },
     "execution_count": 52,
     "metadata": {},
     "output_type": "execute_result"
    }
   ],
   "source": [
    "room.head()"
   ]
  },
  {
   "cell_type": "code",
   "execution_count": 84,
   "id": "9346d985",
   "metadata": {},
   "outputs": [],
   "source": [
    "room = room.rename(columns={'room number': 'roomnumber'})"
   ]
  },
  {
   "cell_type": "code",
   "execution_count": 81,
   "id": "97be78ae",
   "metadata": {},
   "outputs": [],
   "source": [
    "cursor.execute(\"DROP TABLE IF EXISTS rooms\")\n"
   ]
  },
  {
   "cell_type": "code",
   "execution_count": 82,
   "id": "eac17871",
   "metadata": {},
   "outputs": [],
   "source": [
    "cursor.execute('''\n",
    "    CREATE TABLE IF NOT EXISTS Room_Details (\n",
    "    booking_id VARCHAR(20) REFERENCES reservations (booking_id),\n",
    "        roomnumber INT not null,\n",
    "        room_type_reserved VARCHAR(50)\n",
    "    )\n",
    "''')"
   ]
  },
  {
   "cell_type": "code",
   "execution_count": 85,
   "id": "19913541",
   "metadata": {},
   "outputs": [],
   "source": [
    "for row in room.itertuples():\n",
    "    cursor.execute('''\n",
    "        INSERT INTO Room_Details (roomnumber,room_type_reserved )\n",
    "        VALUES (%s, %s)\n",
    "        ''',\n",
    "        (row.roomnumber,\n",
    "         row.room_type_reserved))\n",
    "    cnx.commit()"
   ]
  }
 ],
 "metadata": {
  "kernelspec": {
   "display_name": "Python 3 (ipykernel)",
   "language": "python",
   "name": "python3"
  },
  "language_info": {
   "codemirror_mode": {
    "name": "ipython",
    "version": 3
   },
   "file_extension": ".py",
   "mimetype": "text/x-python",
   "name": "python",
   "nbconvert_exporter": "python",
   "pygments_lexer": "ipython3",
   "version": "3.9.18"
  }
 },
 "nbformat": 4,
 "nbformat_minor": 5
}
